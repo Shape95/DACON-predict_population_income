{
  "cells": [
    {
      "cell_type": "markdown",
      "metadata": {
        "id": "view-in-github",
        "colab_type": "text"
      },
      "source": [
        "<a href=\"https://colab.research.google.com/github/Shape95/DACON-predict_population_income/blob/main/%EC%9D%B8%EA%B5%AC_%EB%8D%B0%EC%9D%B4%ED%84%B0_%EA%B8%B0%EB%B0%98_%EC%86%8C%EB%93%9D_%EC%98%88%EC%B8%A1_%EA%B2%BD%EC%A7%84%EB%8C%80%ED%9A%8C.ipynb\" target=\"_parent\"><img src=\"https://colab.research.google.com/assets/colab-badge.svg\" alt=\"Open In Colab\"/></a>"
      ]
    },
    {
      "cell_type": "markdown",
      "id": "e84388ad-44cb-4d51-95bd-5fa72e372483",
      "metadata": {
        "id": "e84388ad-44cb-4d51-95bd-5fa72e372483"
      },
      "source": [
        "# 인구 데이터 기반 소득 예측 경진대회"
      ]
    },
    {
      "cell_type": "markdown",
      "id": "61659bf6-eaa3-4655-ab8f-6457dc3ccfc9",
      "metadata": {
        "id": "61659bf6-eaa3-4655-ab8f-6457dc3ccfc9"
      },
      "source": [
        "이번 대회는 인구 데이터 바탕으로 소득이 5만달러 이하인지 초과인지 분류하는 대회입니다.\n",
        "\n",
        "간단한 모델을 작성해서 성능을 확인하고, 성능을 개선하기 위해서는 어떻게 접근해야 하는지 생각해봅시다!\n",
        "\n",
        "그럼 시작해볼까요?"
      ]
    },
    {
      "cell_type": "markdown",
      "id": "509ed5e6-3311-4bf4-8655-44a7efda9afa",
      "metadata": {
        "id": "509ed5e6-3311-4bf4-8655-44a7efda9afa"
      },
      "source": [
        "## 데이터 불러오기 및 모듈 임포트\n"
      ]
    },
    {
      "cell_type": "code",
      "execution_count": null,
      "id": "ubWzYe0VO-ZQ",
      "metadata": {
        "id": "ubWzYe0VO-ZQ"
      },
      "outputs": [],
      "source": [
        "# 기본 데이터 정리 및 처리\n",
        "import pandas as pd\n",
        "import numpy as np\n",
        "\n",
        "# 시각화\n",
        "import missingno\n",
        "import seaborn as sns\n",
        "import matplotlib.pyplot as plt\n",
        "%matplotlib inline\n",
        "\n",
        "# 전처리 및 머신 러닝 알고리즘\n",
        "from sklearn.preprocessing import LabelEncoder, OneHotEncoder\n",
        "from sklearn.preprocessing import StandardScaler\n",
        "from sklearn.neighbors import KNeighborsClassifier\n",
        "from sklearn.linear_model import LogisticRegression\n",
        "from sklearn.ensemble import RandomForestClassifier\n",
        "from sklearn.svm import SVC\n",
        "from xgboost import XGBClassifier\n",
        "from sklearn.ensemble import GradientBoostingClassifier\n",
        "from sklearn.ensemble import ExtraTreesClassifier\n",
        "from sklearn.ensemble import AdaBoostClassifier\n",
        "from sklearn.gaussian_process import GaussianProcessClassifier\n",
        "from sklearn.naive_bayes import GaussianNB\n",
        "from sklearn.ensemble import BaggingClassifier\n",
        "from sklearn.ensemble import VotingClassifier\n",
        "\n",
        "# 모델 튜닝 및 평가\n",
        "from sklearn.model_selection import cross_val_score\n",
        "from sklearn.model_selection import GridSearchCV\n",
        "from sklearn.model_selection import cross_val_predict\n",
        "from sklearn import model_selection\n",
        "\n",
        "\n",
        "# 경고 제거 (판다스가 에러 메시지를 자주 만들어 내기 때문)\n",
        "import warnings\n",
        "warnings.filterwarnings('ignore')"
      ]
    },
    {
      "cell_type": "code",
      "execution_count": null,
      "id": "910b2b5c",
      "metadata": {
        "id": "910b2b5c"
      },
      "outputs": [],
      "source": [
        "import tensorflow as tf"
      ]
    },
    {
      "cell_type": "code",
      "execution_count": null,
      "id": "b4dec620",
      "metadata": {
        "id": "b4dec620",
        "outputId": "a1bd0931-a101-40f5-a00a-0a38a0963de9"
      },
      "outputs": [
        {
          "data": {
            "text/plain": [
              "True"
            ]
          },
          "execution_count": 15,
          "metadata": {},
          "output_type": "execute_result"
        }
      ],
      "source": [
        "tf.test.is_gpu_available()"
      ]
    },
    {
      "cell_type": "code",
      "execution_count": null,
      "id": "782d7266-8a02-4b1c-a526-99cdc15bef42",
      "metadata": {
        "id": "782d7266-8a02-4b1c-a526-99cdc15bef42"
      },
      "outputs": [],
      "source": [
        "import pandas as pd\n",
        "\n",
        "dir = 'data/'\n",
        "\n",
        "# csv 형식으로 된 데이터 파일을 읽어옵니다.\n",
        "train = pd.read_csv(dir+'train.csv')\n",
        "test = pd.read_csv(dir + 'test.csv')"
      ]
    },
    {
      "cell_type": "code",
      "execution_count": null,
      "id": "xpZhbuWb8qpJ",
      "metadata": {
        "id": "xpZhbuWb8qpJ"
      },
      "outputs": [],
      "source": [
        "ntrain = train.shape[0]\n",
        "ntest = test.shape[0]\n",
        "\n",
        "y_train = train['target'].values\n",
        "id = test['id']"
      ]
    },
    {
      "cell_type": "code",
      "execution_count": null,
      "id": "aO6sI7dtQGlA",
      "metadata": {
        "id": "aO6sI7dtQGlA"
      },
      "outputs": [],
      "source": [
        "data = pd.concat((train, test))\n",
        "temp = data.copy()"
      ]
    },
    {
      "cell_type": "markdown",
      "id": "e11c76ec-c364-4175-9ea9-c72c5ba1b21f",
      "metadata": {
        "id": "e11c76ec-c364-4175-9ea9-c72c5ba1b21f"
      },
      "source": [
        "## 파일 병합"
      ]
    },
    {
      "cell_type": "code",
      "execution_count": null,
      "id": "tgDWD8sgFaQH",
      "metadata": {
        "colab": {
          "base_uri": "https://localhost:8080/",
          "height": 250
        },
        "id": "tgDWD8sgFaQH",
        "outputId": "0fdcde71-beec-4e9c-af8d-cf1b982c3704"
      },
      "outputs": [
        {
          "data": {
            "text/html": [
              "<div>\n",
              "<style scoped>\n",
              "    .dataframe tbody tr th:only-of-type {\n",
              "        vertical-align: middle;\n",
              "    }\n",
              "\n",
              "    .dataframe tbody tr th {\n",
              "        vertical-align: top;\n",
              "    }\n",
              "\n",
              "    .dataframe thead th {\n",
              "        text-align: right;\n",
              "    }\n",
              "</style>\n",
              "<table border=\"1\" class=\"dataframe\">\n",
              "  <thead>\n",
              "    <tr style=\"text-align: right;\">\n",
              "      <th></th>\n",
              "      <th>id</th>\n",
              "      <th>age</th>\n",
              "      <th>workclass</th>\n",
              "      <th>fnlwgt</th>\n",
              "      <th>education</th>\n",
              "      <th>education.num</th>\n",
              "      <th>marital.status</th>\n",
              "      <th>occupation</th>\n",
              "      <th>relationship</th>\n",
              "      <th>race</th>\n",
              "      <th>sex</th>\n",
              "      <th>capital.gain</th>\n",
              "      <th>capital.loss</th>\n",
              "      <th>hours.per.week</th>\n",
              "      <th>native.country</th>\n",
              "      <th>target</th>\n",
              "    </tr>\n",
              "  </thead>\n",
              "  <tbody>\n",
              "    <tr>\n",
              "      <th>0</th>\n",
              "      <td>0</td>\n",
              "      <td>32</td>\n",
              "      <td>Private</td>\n",
              "      <td>309513</td>\n",
              "      <td>Assoc-acdm</td>\n",
              "      <td>12</td>\n",
              "      <td>Married-civ-spouse</td>\n",
              "      <td>Craft-repair</td>\n",
              "      <td>Husband</td>\n",
              "      <td>White</td>\n",
              "      <td>Male</td>\n",
              "      <td>0</td>\n",
              "      <td>0</td>\n",
              "      <td>40</td>\n",
              "      <td>United-States</td>\n",
              "      <td>0.0</td>\n",
              "    </tr>\n",
              "    <tr>\n",
              "      <th>1</th>\n",
              "      <td>1</td>\n",
              "      <td>33</td>\n",
              "      <td>Private</td>\n",
              "      <td>205469</td>\n",
              "      <td>Some-college</td>\n",
              "      <td>10</td>\n",
              "      <td>Married-civ-spouse</td>\n",
              "      <td>Exec-managerial</td>\n",
              "      <td>Husband</td>\n",
              "      <td>White</td>\n",
              "      <td>Male</td>\n",
              "      <td>0</td>\n",
              "      <td>0</td>\n",
              "      <td>40</td>\n",
              "      <td>United-States</td>\n",
              "      <td>1.0</td>\n",
              "    </tr>\n",
              "    <tr>\n",
              "      <th>2</th>\n",
              "      <td>2</td>\n",
              "      <td>46</td>\n",
              "      <td>Private</td>\n",
              "      <td>149949</td>\n",
              "      <td>Some-college</td>\n",
              "      <td>10</td>\n",
              "      <td>Married-civ-spouse</td>\n",
              "      <td>Craft-repair</td>\n",
              "      <td>Husband</td>\n",
              "      <td>White</td>\n",
              "      <td>Male</td>\n",
              "      <td>0</td>\n",
              "      <td>0</td>\n",
              "      <td>40</td>\n",
              "      <td>United-States</td>\n",
              "      <td>0.0</td>\n",
              "    </tr>\n",
              "    <tr>\n",
              "      <th>3</th>\n",
              "      <td>3</td>\n",
              "      <td>23</td>\n",
              "      <td>Private</td>\n",
              "      <td>193090</td>\n",
              "      <td>Bachelors</td>\n",
              "      <td>13</td>\n",
              "      <td>Never-married</td>\n",
              "      <td>Adm-clerical</td>\n",
              "      <td>Own-child</td>\n",
              "      <td>White</td>\n",
              "      <td>Female</td>\n",
              "      <td>0</td>\n",
              "      <td>0</td>\n",
              "      <td>30</td>\n",
              "      <td>United-States</td>\n",
              "      <td>0.0</td>\n",
              "    </tr>\n",
              "    <tr>\n",
              "      <th>4</th>\n",
              "      <td>4</td>\n",
              "      <td>55</td>\n",
              "      <td>Private</td>\n",
              "      <td>60193</td>\n",
              "      <td>HS-grad</td>\n",
              "      <td>9</td>\n",
              "      <td>Divorced</td>\n",
              "      <td>Adm-clerical</td>\n",
              "      <td>Not-in-family</td>\n",
              "      <td>White</td>\n",
              "      <td>Female</td>\n",
              "      <td>0</td>\n",
              "      <td>0</td>\n",
              "      <td>40</td>\n",
              "      <td>United-States</td>\n",
              "      <td>0.0</td>\n",
              "    </tr>\n",
              "  </tbody>\n",
              "</table>\n",
              "</div>"
            ],
            "text/plain": [
              "   id  age workclass  fnlwgt     education  education.num      marital.status  \\\n",
              "0   0   32   Private  309513    Assoc-acdm             12  Married-civ-spouse   \n",
              "1   1   33   Private  205469  Some-college             10  Married-civ-spouse   \n",
              "2   2   46   Private  149949  Some-college             10  Married-civ-spouse   \n",
              "3   3   23   Private  193090     Bachelors             13       Never-married   \n",
              "4   4   55   Private   60193       HS-grad              9            Divorced   \n",
              "\n",
              "        occupation   relationship   race     sex  capital.gain  capital.loss  \\\n",
              "0     Craft-repair        Husband  White    Male             0             0   \n",
              "1  Exec-managerial        Husband  White    Male             0             0   \n",
              "2     Craft-repair        Husband  White    Male             0             0   \n",
              "3     Adm-clerical      Own-child  White  Female             0             0   \n",
              "4     Adm-clerical  Not-in-family  White  Female             0             0   \n",
              "\n",
              "   hours.per.week native.country  target  \n",
              "0              40  United-States     0.0  \n",
              "1              40  United-States     1.0  \n",
              "2              40  United-States     0.0  \n",
              "3              30  United-States     0.0  \n",
              "4              40  United-States     0.0  "
            ]
          },
          "execution_count": 19,
          "metadata": {},
          "output_type": "execute_result"
        }
      ],
      "source": [
        "data.head()"
      ]
    },
    {
      "cell_type": "code",
      "execution_count": null,
      "id": "Wfw21cvyP-Ey",
      "metadata": {
        "colab": {
          "base_uri": "https://localhost:8080/",
          "height": 600
        },
        "id": "Wfw21cvyP-Ey",
        "outputId": "f5e76b60-1d8d-4a06-da1a-0747603882b5"
      },
      "outputs": [
        {
          "data": {
            "text/plain": [
              "<AxesSubplot:>"
            ]
          },
          "execution_count": 20,
          "metadata": {},
          "output_type": "execute_result"
        },
        {
          "data": {
            "image/png": "[encoded data removed]",
            "text/plain": [
              "<Figure size 1080x576 with 2 Axes>"
            ]
          },
          "metadata": {
            "needs_background": "light"
          },
          "output_type": "display_data"
        }
      ],
      "source": [
        "missingno.matrix(data, figsize=(15,8))"
      ]
    },
    {
      "cell_type": "code",
      "execution_count": null,
      "id": "5Qjc6LvXP-Gz",
      "metadata": {
        "colab": {
          "base_uri": "https://localhost:8080/"
        },
        "id": "5Qjc6LvXP-Gz",
        "outputId": "1c2f452c-bc5a-4cd2-b84c-ec7672a844c5"
      },
      "outputs": [
        {
          "data": {
            "text/plain": [
              "id                   0\n",
              "age                  0\n",
              "workclass         1836\n",
              "fnlwgt               0\n",
              "education            0\n",
              "education.num        0\n",
              "marital.status       0\n",
              "occupation        1843\n",
              "relationship         0\n",
              "race                 0\n",
              "sex                  0\n",
              "capital.gain         0\n",
              "capital.loss         0\n",
              "hours.per.week       0\n",
              "native.country     583\n",
              "target               0\n",
              "dtype: int64"
            ]
          },
          "execution_count": 21,
          "metadata": {},
          "output_type": "execute_result"
        }
      ],
      "source": [
        "train.isnull().sum()"
      ]
    },
    {
      "cell_type": "markdown",
      "id": "V0EMs36tOGxO",
      "metadata": {
        "id": "V0EMs36tOGxO"
      },
      "source": [
        "### 결측치 제거"
      ]
    },
    {
      "cell_type": "code",
      "execution_count": null,
      "id": "Xa-OtlBvNmPs",
      "metadata": {
        "colab": {
          "base_uri": "https://localhost:8080/"
        },
        "id": "Xa-OtlBvNmPs",
        "outputId": "205af5c7-52ec-413b-c6fc-80b7e50e891f"
      },
      "outputs": [
        {
          "data": {
            "text/plain": [
              "id                    0\n",
              "age                   0\n",
              "workclass             0\n",
              "fnlwgt                0\n",
              "education             0\n",
              "education.num         0\n",
              "marital.status        0\n",
              "occupation            0\n",
              "relationship          0\n",
              "race                  0\n",
              "sex                   0\n",
              "capital.gain          0\n",
              "capital.loss          0\n",
              "hours.per.week        0\n",
              "native.country        0\n",
              "target            15081\n",
              "dtype: int64"
            ]
          },
          "execution_count": 22,
          "metadata": {},
          "output_type": "execute_result"
        }
      ],
      "source": [
        "train = train.dropna(axis=0)\n",
        "\n",
        "data = pd.concat((train,test))\n",
        "data.isnull().sum()"
      ]
    },
    {
      "cell_type": "code",
      "execution_count": null,
      "id": "e3fe21a5-3d80-4ff9-b015-98f590fc775d",
      "metadata": {
        "colab": {
          "base_uri": "https://localhost:8080/"
        },
        "id": "e3fe21a5-3d80-4ff9-b015-98f590fc775d",
        "outputId": "102ea70b-966c-4a39-8f92-01886f27c4d9"
      },
      "outputs": [
        {
          "name": "stdout",
          "output_type": "stream",
          "text": [
            "<class 'pandas.core.frame.DataFrame'>\n",
            "Int64Index: 15081 entries, 0 to 15080\n",
            "Data columns (total 16 columns):\n",
            " #   Column          Non-Null Count  Dtype \n",
            "---  ------          --------------  ----- \n",
            " 0   id              15081 non-null  int64 \n",
            " 1   age             15081 non-null  int64 \n",
            " 2   workclass       15081 non-null  object\n",
            " 3   fnlwgt          15081 non-null  int64 \n",
            " 4   education       15081 non-null  object\n",
            " 5   education.num   15081 non-null  int64 \n",
            " 6   marital.status  15081 non-null  object\n",
            " 7   occupation      15081 non-null  object\n",
            " 8   relationship    15081 non-null  object\n",
            " 9   race            15081 non-null  object\n",
            " 10  sex             15081 non-null  object\n",
            " 11  capital.gain    15081 non-null  int64 \n",
            " 12  capital.loss    15081 non-null  int64 \n",
            " 13  hours.per.week  15081 non-null  int64 \n",
            " 14  native.country  15081 non-null  object\n",
            " 15  target          15081 non-null  int64 \n",
            "dtypes: int64(8), object(8)\n",
            "memory usage: 2.0+ MB\n"
          ]
        }
      ],
      "source": [
        "train.info()"
      ]
    },
    {
      "cell_type": "markdown",
      "id": "f697e7a7-ad6d-483e-a5a8-c414eca943aa",
      "metadata": {
        "id": "f697e7a7-ad6d-483e-a5a8-c414eca943aa"
      },
      "source": [
        "\n",
        "## 데이터 탐구 (Exploratory Data Analysis)\n",
        "\n",
        "info() 메소드를 이용하여 데이터의 타입을 보면 상당히 많은 데이터가 범주형인 것을 확인 할 수 있습니다.\n"
      ]
    },
    {
      "cell_type": "code",
      "execution_count": null,
      "id": "-Oe8Ey3WQg2V",
      "metadata": {
        "colab": {
          "base_uri": "https://localhost:8080/",
          "height": 503
        },
        "id": "-Oe8Ey3WQg2V",
        "outputId": "032d5748-dd7a-46bb-c774-cceb2acbad43"
      },
      "outputs": [
        {
          "data": {
            "image/png": "[encoded data removed]",
            "text/plain": [
              "<Figure size 1008x576 with 2 Axes>"
            ]
          },
          "metadata": {
            "needs_background": "light"
          },
          "output_type": "display_data"
        }
      ],
      "source": [
        "# Co-relation 매트릭스\n",
        "corr = data.corr()\n",
        "# 마스크 셋업\n",
        "mask = np.zeros_like(corr, dtype=np.bool)\n",
        "mask[np.triu_indices_from(mask)] = True\n",
        "# 그래프 셋업\n",
        "plt.figure(figsize=(14, 8))\n",
        "# 그래프 타이틀\n",
        "plt.title('Overall Correlation', fontsize=18)\n",
        "# Co-relation 매트릭스 런칭\n",
        "sns.heatmap(corr, mask=mask, annot=False,cmap='RdYlGn', linewidths=0.2, annot_kws={'size':20})\n",
        "plt.show()"
      ]
    },
    {
      "cell_type": "markdown",
      "id": "hC2Vkb3kQa5r",
      "metadata": {
        "id": "hC2Vkb3kQa5r"
      },
      "source": [
        "### 그룹별 평균"
      ]
    },
    {
      "cell_type": "code",
      "execution_count": null,
      "id": "b2MBLDgULa2D",
      "metadata": {
        "id": "b2MBLDgULa2D"
      },
      "outputs": [],
      "source": [
        "def survpct(col):\n",
        "    return temp.groupby(col)['target'].mean()"
      ]
    },
    {
      "cell_type": "markdown",
      "id": "KSVtuNOoQgtM",
      "metadata": {
        "id": "KSVtuNOoQgtM"
      },
      "source": [
        "### 분석용 막대그래프"
      ]
    },
    {
      "cell_type": "code",
      "execution_count": null,
      "id": "gHbhE6KkQZa0",
      "metadata": {
        "colab": {
          "base_uri": "https://localhost:8080/",
          "height": 730
        },
        "id": "gHbhE6KkQZa0",
        "outputId": "1835f197-6875-42cb-e9b4-344b5eba76d1"
      },
      "outputs": [
        {
          "data": {
            "image/png": "[encoded data removed]",
            "text/plain": [
              "<Figure size 1584x864 with 2 Axes>"
            ]
          },
          "metadata": {
            "needs_background": "light"
          },
          "output_type": "display_data"
        }
      ],
      "source": [
        "def bag(col, target, title, title1):\n",
        "    f,ax=plt.subplots(2,1,figsize=(22,12))\n",
        "    temp.groupby([col])[target].mean().plot(kind='bar', ax=ax[0])\n",
        "    ax[0].set_title(title)\n",
        "    sns.countplot(col, hue=target, data=temp, ax=ax[1])\n",
        "    ax[1].set_title(title1)\n",
        "    plt.show()\n",
        "\n",
        "bag('age','target','age / target (%)','age / target (count)')"
      ]
    },
    {
      "cell_type": "markdown",
      "id": "OrMDMv1kD0jQ",
      "metadata": {
        "id": "OrMDMv1kD0jQ"
      },
      "source": [
        "### Age 분석"
      ]
    },
    {
      "cell_type": "code",
      "execution_count": null,
      "id": "WRO3TilzCVQh",
      "metadata": {
        "colab": {
          "base_uri": "https://localhost:8080/"
        },
        "id": "WRO3TilzCVQh",
        "outputId": "0daae3be-4750-4ef3-eb1a-319c6bd010b3"
      },
      "outputs": [
        {
          "name": "stdout",
          "output_type": "stream",
          "text": [
            "Oldest Person was 90 Years\n",
            "Youngest Person was 17 Years\n",
            "Average Age was 38 Years\n"
          ]
        }
      ],
      "source": [
        "print('Oldest Person was', data['age'].max(), 'Years')\n",
        "print('Youngest Person was', data['age'].min(), 'Years')\n",
        "print('Average Age was', int(data['age'].mean()), 'Years')"
      ]
    },
    {
      "cell_type": "code",
      "execution_count": null,
      "id": "njSvBLvSEQR9",
      "metadata": {
        "colab": {
          "base_uri": "https://localhost:8080/"
        },
        "id": "njSvBLvSEQR9",
        "outputId": "f35b97e2-c44c-482e-9c33-d5690224d2d7"
      },
      "outputs": [
        {
          "data": {
            "text/plain": [
              "age\n",
              "17    0.000000\n",
              "18    0.000000\n",
              "19    0.004890\n",
              "20    0.000000\n",
              "21    0.002427\n",
              "        ...   \n",
              "85    0.000000\n",
              "86    0.000000\n",
              "87    0.000000\n",
              "88    0.000000\n",
              "90    0.192308\n",
              "Name: target, Length: 73, dtype: float64"
            ]
          },
          "execution_count": 28,
          "metadata": {},
          "output_type": "execute_result"
        }
      ],
      "source": [
        "survpct('age')"
      ]
    },
    {
      "cell_type": "code",
      "execution_count": null,
      "id": "Ycvf5YTHL86U",
      "metadata": {
        "id": "Ycvf5YTHL86U"
      },
      "outputs": [],
      "source": [
        "temp['age_range'] = pd.qcut(train['age'], 10)"
      ]
    },
    {
      "cell_type": "code",
      "execution_count": null,
      "id": "eNaZKpTYEXoR",
      "metadata": {
        "colab": {
          "base_uri": "https://localhost:8080/"
        },
        "id": "eNaZKpTYEXoR",
        "outputId": "0abaa5b7-96cf-45b1-cd43-bfa4037def28"
      },
      "outputs": [
        {
          "data": {
            "text/plain": [
              "age_range\n",
              "(16.999, 22.0]    0.004271\n",
              "(22.0, 26.0]      0.051560\n",
              "(26.0, 30.0]      0.160770\n",
              "(30.0, 33.0]      0.209586\n",
              "(33.0, 37.0]      0.286930\n",
              "(37.0, 41.0]      0.350575\n",
              "(41.0, 45.0]      0.392405\n",
              "(45.0, 50.0]      0.397403\n",
              "(50.0, 57.0]      0.399723\n",
              "(57.0, 90.0]      0.282979\n",
              "Name: target, dtype: float64"
            ]
          },
          "execution_count": 30,
          "metadata": {},
          "output_type": "execute_result"
        }
      ],
      "source": [
        "survpct('age_range')"
      ]
    },
    {
      "cell_type": "code",
      "execution_count": null,
      "id": "sYT8be6SMVbo",
      "metadata": {
        "id": "sYT8be6SMVbo"
      },
      "outputs": [],
      "source": [
        "temp['Agroup'] = 0\n",
        "\n",
        "temp.loc[temp['age'] < 19.0, 'Agroup'] = 18\n",
        "temp.loc[(temp['age'] >=19.0) & (temp['age'] <= 24.0), 'Agroup'] = 22\n",
        "temp.loc[(temp['age'] > 24.0) & (temp['age'] < 28.0), 'Agroup'] = 26\n",
        "temp.loc[(temp['age'] >= 28.0) & (temp['age'] < 32.0), 'Agroup'] = 30\n",
        "temp.loc[(temp['age'] >= 32.0) & (temp['age'] < 36.0), 'Agroup'] = 34\n",
        "temp.loc[(temp['age'] >= 36.0) & (temp['age'] <=  40.0), 'Agroup'] = 38\n",
        "temp.loc[(temp['age'] > 40.0) & (temp['age'] <= 42.0), 'Agroup'] = 41\n",
        "temp.loc[(temp['age'] > 42.0) & (temp['age'] <= 44.0), 'Agroup'] = 43\n",
        "temp.loc[(temp['age'] > 44.0) & (temp['age'] <= 46.0), 'Agroup'] = 45\n",
        "temp.loc[(temp['age'] > 46.0) & (temp['age'] <= 48.0), 'Agroup'] = 47\n",
        "temp.loc[(temp['age'] > 48.0) & (temp['age'] <= 50.0), 'Agroup'] = 49\n",
        "temp.loc[(temp['age'] > 50.0) & (temp['age'] <= 53.0), 'Agroup'] = 51\n",
        "temp.loc[(temp['age'] > 53.0) & (temp['age'] <= 58.0), 'Agroup'] = 55\n",
        "temp.loc[(temp['age'] > 58.0) & (temp['age'] <= 75.0), 'Agroup'] = 66\n",
        "temp.loc[temp['age'] > 75.0, 'Agroup'] = 78"
      ]
    },
    {
      "cell_type": "code",
      "execution_count": null,
      "id": "PrOD1cidPNfX",
      "metadata": {
        "colab": {
          "base_uri": "https://localhost:8080/",
          "height": 322
        },
        "id": "PrOD1cidPNfX",
        "outputId": "b7f3d12e-e2cf-4904-d81b-cfefd36e8e7b"
      },
      "outputs": [
        {
          "data": {
            "text/html": [
              "<div>\n",
              "<style scoped>\n",
              "    .dataframe tbody tr th:only-of-type {\n",
              "        vertical-align: middle;\n",
              "    }\n",
              "\n",
              "    .dataframe tbody tr th {\n",
              "        vertical-align: top;\n",
              "    }\n",
              "\n",
              "    .dataframe thead th {\n",
              "        text-align: right;\n",
              "    }\n",
              "</style>\n",
              "<table border=\"1\" class=\"dataframe\">\n",
              "  <thead>\n",
              "    <tr style=\"text-align: right;\">\n",
              "      <th></th>\n",
              "      <th>id</th>\n",
              "      <th>age</th>\n",
              "      <th>workclass</th>\n",
              "      <th>fnlwgt</th>\n",
              "      <th>education</th>\n",
              "      <th>education.num</th>\n",
              "      <th>marital.status</th>\n",
              "      <th>occupation</th>\n",
              "      <th>relationship</th>\n",
              "      <th>race</th>\n",
              "      <th>sex</th>\n",
              "      <th>capital.gain</th>\n",
              "      <th>capital.loss</th>\n",
              "      <th>hours.per.week</th>\n",
              "      <th>native.country</th>\n",
              "      <th>target</th>\n",
              "      <th>age_range</th>\n",
              "      <th>Agroup</th>\n",
              "    </tr>\n",
              "  </thead>\n",
              "  <tbody>\n",
              "    <tr>\n",
              "      <th>0</th>\n",
              "      <td>0</td>\n",
              "      <td>32</td>\n",
              "      <td>Private</td>\n",
              "      <td>309513</td>\n",
              "      <td>Assoc-acdm</td>\n",
              "      <td>12</td>\n",
              "      <td>Married-civ-spouse</td>\n",
              "      <td>Craft-repair</td>\n",
              "      <td>Husband</td>\n",
              "      <td>White</td>\n",
              "      <td>Male</td>\n",
              "      <td>0</td>\n",
              "      <td>0</td>\n",
              "      <td>40</td>\n",
              "      <td>United-States</td>\n",
              "      <td>0.0</td>\n",
              "      <td>(30.0, 33.0]</td>\n",
              "      <td>34</td>\n",
              "    </tr>\n",
              "    <tr>\n",
              "      <th>1</th>\n",
              "      <td>1</td>\n",
              "      <td>33</td>\n",
              "      <td>Private</td>\n",
              "      <td>205469</td>\n",
              "      <td>Some-college</td>\n",
              "      <td>10</td>\n",
              "      <td>Married-civ-spouse</td>\n",
              "      <td>Exec-managerial</td>\n",
              "      <td>Husband</td>\n",
              "      <td>White</td>\n",
              "      <td>Male</td>\n",
              "      <td>0</td>\n",
              "      <td>0</td>\n",
              "      <td>40</td>\n",
              "      <td>United-States</td>\n",
              "      <td>1.0</td>\n",
              "      <td>(30.0, 33.0]</td>\n",
              "      <td>34</td>\n",
              "    </tr>\n",
              "    <tr>\n",
              "      <th>2</th>\n",
              "      <td>2</td>\n",
              "      <td>46</td>\n",
              "      <td>Private</td>\n",
              "      <td>149949</td>\n",
              "      <td>Some-college</td>\n",
              "      <td>10</td>\n",
              "      <td>Married-civ-spouse</td>\n",
              "      <td>Craft-repair</td>\n",
              "      <td>Husband</td>\n",
              "      <td>White</td>\n",
              "      <td>Male</td>\n",
              "      <td>0</td>\n",
              "      <td>0</td>\n",
              "      <td>40</td>\n",
              "      <td>United-States</td>\n",
              "      <td>0.0</td>\n",
              "      <td>(45.0, 50.0]</td>\n",
              "      <td>45</td>\n",
              "    </tr>\n",
              "    <tr>\n",
              "      <th>3</th>\n",
              "      <td>3</td>\n",
              "      <td>23</td>\n",
              "      <td>Private</td>\n",
              "      <td>193090</td>\n",
              "      <td>Bachelors</td>\n",
              "      <td>13</td>\n",
              "      <td>Never-married</td>\n",
              "      <td>Adm-clerical</td>\n",
              "      <td>Own-child</td>\n",
              "      <td>White</td>\n",
              "      <td>Female</td>\n",
              "      <td>0</td>\n",
              "      <td>0</td>\n",
              "      <td>30</td>\n",
              "      <td>United-States</td>\n",
              "      <td>0.0</td>\n",
              "      <td>(22.0, 26.0]</td>\n",
              "      <td>22</td>\n",
              "    </tr>\n",
              "    <tr>\n",
              "      <th>4</th>\n",
              "      <td>4</td>\n",
              "      <td>55</td>\n",
              "      <td>Private</td>\n",
              "      <td>60193</td>\n",
              "      <td>HS-grad</td>\n",
              "      <td>9</td>\n",
              "      <td>Divorced</td>\n",
              "      <td>Adm-clerical</td>\n",
              "      <td>Not-in-family</td>\n",
              "      <td>White</td>\n",
              "      <td>Female</td>\n",
              "      <td>0</td>\n",
              "      <td>0</td>\n",
              "      <td>40</td>\n",
              "      <td>United-States</td>\n",
              "      <td>0.0</td>\n",
              "      <td>(50.0, 57.0]</td>\n",
              "      <td>55</td>\n",
              "    </tr>\n",
              "  </tbody>\n",
              "</table>\n",
              "</div>"
            ],
            "text/plain": [
              "   id  age workclass  fnlwgt     education  education.num      marital.status  \\\n",
              "0   0   32   Private  309513    Assoc-acdm             12  Married-civ-spouse   \n",
              "1   1   33   Private  205469  Some-college             10  Married-civ-spouse   \n",
              "2   2   46   Private  149949  Some-college             10  Married-civ-spouse   \n",
              "3   3   23   Private  193090     Bachelors             13       Never-married   \n",
              "4   4   55   Private   60193       HS-grad              9            Divorced   \n",
              "\n",
              "        occupation   relationship   race     sex  capital.gain  capital.loss  \\\n",
              "0     Craft-repair        Husband  White    Male             0             0   \n",
              "1  Exec-managerial        Husband  White    Male             0             0   \n",
              "2     Craft-repair        Husband  White    Male             0             0   \n",
              "3     Adm-clerical      Own-child  White  Female             0             0   \n",
              "4     Adm-clerical  Not-in-family  White  Female             0             0   \n",
              "\n",
              "   hours.per.week native.country  target     age_range  Agroup  \n",
              "0              40  United-States     0.0  (30.0, 33.0]      34  \n",
              "1              40  United-States     1.0  (30.0, 33.0]      34  \n",
              "2              40  United-States     0.0  (45.0, 50.0]      45  \n",
              "3              30  United-States     0.0  (22.0, 26.0]      22  \n",
              "4              40  United-States     0.0  (50.0, 57.0]      55  "
            ]
          },
          "execution_count": 32,
          "metadata": {},
          "output_type": "execute_result"
        }
      ],
      "source": [
        "temp.head()"
      ]
    },
    {
      "cell_type": "markdown",
      "id": "JfLX4VfjLPKm",
      "metadata": {
        "id": "JfLX4VfjLPKm"
      },
      "source": [
        "### workclass 분석"
      ]
    },
    {
      "cell_type": "code",
      "execution_count": null,
      "id": "bLkUl4xLLR0J",
      "metadata": {
        "colab": {
          "base_uri": "https://localhost:8080/"
        },
        "id": "bLkUl4xLLR0J",
        "outputId": "799fee60-ef9e-44c2-d4b8-01bb5ac9907b"
      },
      "outputs": [
        {
          "data": {
            "text/plain": [
              "Private             22696\n",
              "Self-emp-not-inc     2541\n",
              "Local-gov            2093\n",
              "State-gov            1298\n",
              "Self-emp-inc         1116\n",
              "Federal-gov           960\n",
              "Without-pay            14\n",
              "Never-worked            7\n",
              "Name: workclass, dtype: int64"
            ]
          },
          "execution_count": 33,
          "metadata": {},
          "output_type": "execute_result"
        }
      ],
      "source": [
        "temp['workclass'].value_counts()"
      ]
    },
    {
      "cell_type": "markdown",
      "id": "MKHZowYwSLmO",
      "metadata": {
        "id": "MKHZowYwSLmO"
      },
      "source": [
        "### fnlwgt *분석*"
      ]
    },
    {
      "cell_type": "code",
      "execution_count": null,
      "id": "29r_5feLSRCy",
      "metadata": {
        "colab": {
          "base_uri": "https://localhost:8080/"
        },
        "id": "29r_5feLSRCy",
        "outputId": "56bbaaeb-2386-4253-ba01-1465fb16408e"
      },
      "outputs": [
        {
          "name": "stdout",
          "output_type": "stream",
          "text": [
            "Highest fnlwgt was: 1484705\n",
            "Lowest fnlwgt was: 12285\n",
            "Average fnlwgt was: 189778.36651208502\n"
          ]
        }
      ],
      "source": [
        "print('Highest fnlwgt was:', temp['fnlwgt'].max())\n",
        "print('Lowest fnlwgt was:', temp['fnlwgt'].min())\n",
        "print('Average fnlwgt was:', temp['fnlwgt'].mean())"
      ]
    },
    {
      "cell_type": "code",
      "execution_count": null,
      "id": "pfeJL-x0VjFG",
      "metadata": {
        "colab": {
          "base_uri": "https://localhost:8080/",
          "height": 404
        },
        "id": "pfeJL-x0VjFG",
        "outputId": "1c0f0c03-1474-4c6e-c0e2-9033a12144dd"
      },
      "outputs": [
        {
          "data": {
            "image/png": "[encoded data removed]",
            "text/plain": [
              "<Figure size 1440x432 with 3 Axes>"
            ]
          },
          "metadata": {
            "needs_background": "light"
          },
          "output_type": "display_data"
        }
      ],
      "source": [
        "f,ax=plt.subplots(1, 3, figsize=(20, 6))\n",
        "sns.distplot(train[train['education.num'] == 1].fnlwgt,ax=ax[0])\n",
        "ax[0].set_title('fnlwgt in education.num 1')\n",
        "sns.distplot(train[train['education.num'] == 2].fnlwgt,ax=ax[1])\n",
        "ax[1].set_title('fnlwgt in education.num 2')\n",
        "sns.distplot(train[train['education.num'] == 3].fnlwgt,ax=ax[2])\n",
        "ax[2].set_title('fnlwgt in education.num 3')\n",
        "plt.show()"
      ]
    },
    {
      "cell_type": "code",
      "execution_count": null,
      "id": "PCo1YkauYBpy",
      "metadata": {
        "colab": {
          "base_uri": "https://localhost:8080/"
        },
        "id": "PCo1YkauYBpy",
        "outputId": "25ce62b1-c1bb-4df1-f73a-83bf2ef7bab5"
      },
      "outputs": [
        {
          "data": {
            "text/plain": [
              "fnlwgt\n",
              "12285      0.0\n",
              "13769      NaN\n",
              "14878      NaN\n",
              "18827      0.0\n",
              "19214      0.0\n",
              "          ... \n",
              "1226583    1.0\n",
              "1268339    NaN\n",
              "1366120    0.0\n",
              "1455435    0.0\n",
              "1484705    NaN\n",
              "Name: target, Length: 21648, dtype: float64"
            ]
          },
          "execution_count": 36,
          "metadata": {},
          "output_type": "execute_result"
        }
      ],
      "source": [
        "survpct('fnlwgt')"
      ]
    },
    {
      "cell_type": "code",
      "execution_count": null,
      "id": "NdYB_0WNYiIY",
      "metadata": {
        "id": "NdYB_0WNYiIY"
      },
      "outputs": [],
      "source": [
        "temp['fnlwgt_Range'] = pd.qcut(train['fnlwgt'], 10)"
      ]
    },
    {
      "cell_type": "code",
      "execution_count": null,
      "id": "AHcSk6BaZDu5",
      "metadata": {
        "colab": {
          "base_uri": "https://localhost:8080/",
          "height": 394
        },
        "id": "AHcSk6BaZDu5",
        "outputId": "7c108d5a-8807-4d57-a40e-ce92047d8825"
      },
      "outputs": [
        {
          "data": {
            "text/html": [
              "<style type=\"text/css\">\n",
              "#T_5d143_row0_col0 {\n",
              "  background-color: #ffff66;\n",
              "  color: #000000;\n",
              "}\n",
              "#T_5d143_row1_col0 {\n",
              "  background-color: #e2f066;\n",
              "  color: #000000;\n",
              "}\n",
              "#T_5d143_row2_col0 {\n",
              "  background-color: #cce666;\n",
              "  color: #000000;\n",
              "}\n",
              "#T_5d143_row3_col0 {\n",
              "  background-color: #bbdd66;\n",
              "  color: #000000;\n",
              "}\n",
              "#T_5d143_row4_col0 {\n",
              "  background-color: #a6d266;\n",
              "  color: #000000;\n",
              "}\n",
              "#T_5d143_row5_col0 {\n",
              "  background-color: #95ca66;\n",
              "  color: #000000;\n",
              "}\n",
              "#T_5d143_row6_col0 {\n",
              "  background-color: #8dc666;\n",
              "  color: #000000;\n",
              "}\n",
              "#T_5d143_row7_col0 {\n",
              "  background-color: #74ba66;\n",
              "  color: #f1f1f1;\n",
              "}\n",
              "#T_5d143_row8_col0 {\n",
              "  background-color: #52a866;\n",
              "  color: #f1f1f1;\n",
              "}\n",
              "#T_5d143_row9_col0 {\n",
              "  background-color: #008066;\n",
              "  color: #f1f1f1;\n",
              "}\n",
              "</style>\n",
              "<table id=\"T_5d143\">\n",
              "  <thead>\n",
              "    <tr>\n",
              "      <th class=\"blank level0\" >&nbsp;</th>\n",
              "      <th id=\"T_5d143_level0_col0\" class=\"col_heading level0 col0\" >fnlwgt</th>\n",
              "    </tr>\n",
              "    <tr>\n",
              "      <th class=\"index_name level0\" >fnlwgt_Range</th>\n",
              "      <th class=\"blank col0\" >&nbsp;</th>\n",
              "    </tr>\n",
              "  </thead>\n",
              "  <tbody>\n",
              "    <tr>\n",
              "      <th id=\"T_5d143_level0_row0\" class=\"row_heading level0 row0\" >(18826.999, 66434.0]</th>\n",
              "      <td id=\"T_5d143_row0_col0\" class=\"data row0 col0\" >116798.029821</td>\n",
              "    </tr>\n",
              "    <tr>\n",
              "      <th id=\"T_5d143_level0_row1\" class=\"row_heading level0 row1\" >(66434.0, 106183.0]</th>\n",
              "      <td id=\"T_5d143_row1_col0\" class=\"data row1 col0\" >137554.011936</td>\n",
              "    </tr>\n",
              "    <tr>\n",
              "      <th id=\"T_5d143_level0_row2\" class=\"row_heading level0 row2\" >(106183.0, 131310.0]</th>\n",
              "      <td id=\"T_5d143_row2_col0\" class=\"data row2 col0\" >153209.250332</td>\n",
              "    </tr>\n",
              "    <tr>\n",
              "      <th id=\"T_5d143_level0_row3\" class=\"row_heading level0 row3\" >(131310.0, 158800.0]</th>\n",
              "      <td id=\"T_5d143_row3_col0\" class=\"data row3 col0\" >165314.276194</td>\n",
              "    </tr>\n",
              "    <tr>\n",
              "      <th id=\"T_5d143_level0_row4\" class=\"row_heading level0 row4\" >(158800.0, 178251.0]</th>\n",
              "      <td id=\"T_5d143_row4_col0\" class=\"data row4 col0\" >179994.473806</td>\n",
              "    </tr>\n",
              "    <tr>\n",
              "      <th id=\"T_5d143_level0_row5\" class=\"row_heading level0 row5\" >(178251.0, 195994.0]</th>\n",
              "      <td id=\"T_5d143_row5_col0\" class=\"data row5 col0\" >192642.000000</td>\n",
              "    </tr>\n",
              "    <tr>\n",
              "      <th id=\"T_5d143_level0_row6\" class=\"row_heading level0 row6\" >(195994.0, 220066.0]</th>\n",
              "      <td id=\"T_5d143_row6_col0\" class=\"data row6 col0\" >198270.209881</td>\n",
              "    </tr>\n",
              "    <tr>\n",
              "      <th id=\"T_5d143_level0_row7\" class=\"row_heading level0 row7\" >(220066.0, 261497.0]</th>\n",
              "      <td id=\"T_5d143_row7_col0\" class=\"data row7 col0\" >215881.800729</td>\n",
              "    </tr>\n",
              "    <tr>\n",
              "      <th id=\"T_5d143_level0_row8\" class=\"row_heading level0 row8\" >(261497.0, 328051.0]</th>\n",
              "      <td id=\"T_5d143_row8_col0\" class=\"data row8 col0\" >240022.269231</td>\n",
              "    </tr>\n",
              "    <tr>\n",
              "      <th id=\"T_5d143_level0_row9\" class=\"row_heading level0 row9\" >(328051.0, 1455435.0]</th>\n",
              "      <td id=\"T_5d143_row9_col0\" class=\"data row9 col0\" >298300.423077</td>\n",
              "    </tr>\n",
              "  </tbody>\n",
              "</table>\n"
            ],
            "text/plain": [
              "<pandas.io.formats.style.Styler at 0x1230458b2b0>"
            ]
          },
          "execution_count": 38,
          "metadata": {},
          "output_type": "execute_result"
        }
      ],
      "source": [
        "def groupmean(a,b):\n",
        "    return temp.groupby([a])[b].mean().to_frame().style.background_gradient(cmap='summer_r')\n",
        "\n",
        "groupmean('fnlwgt_Range', 'fnlwgt')"
      ]
    },
    {
      "cell_type": "code",
      "execution_count": null,
      "id": "UhuqqVx1adLW",
      "metadata": {
        "colab": {
          "base_uri": "https://localhost:8080/",
          "height": 357
        },
        "id": "UhuqqVx1adLW",
        "outputId": "4d166964-e674-4019-e71c-74e2767ffdb6"
      },
      "outputs": [
        {
          "data": {
            "text/html": [
              "<div>\n",
              "<style scoped>\n",
              "    .dataframe tbody tr th:only-of-type {\n",
              "        vertical-align: middle;\n",
              "    }\n",
              "\n",
              "    .dataframe tbody tr th {\n",
              "        vertical-align: top;\n",
              "    }\n",
              "\n",
              "    .dataframe thead th {\n",
              "        text-align: right;\n",
              "    }\n",
              "</style>\n",
              "<table border=\"1\" class=\"dataframe\">\n",
              "  <thead>\n",
              "    <tr style=\"text-align: right;\">\n",
              "      <th></th>\n",
              "      <th>id</th>\n",
              "      <th>age</th>\n",
              "      <th>workclass</th>\n",
              "      <th>fnlwgt</th>\n",
              "      <th>education</th>\n",
              "      <th>education.num</th>\n",
              "      <th>marital.status</th>\n",
              "      <th>occupation</th>\n",
              "      <th>relationship</th>\n",
              "      <th>race</th>\n",
              "      <th>sex</th>\n",
              "      <th>capital.gain</th>\n",
              "      <th>capital.loss</th>\n",
              "      <th>hours.per.week</th>\n",
              "      <th>native.country</th>\n",
              "      <th>target</th>\n",
              "      <th>age_range</th>\n",
              "      <th>Agroup</th>\n",
              "      <th>fnlwgt_Range</th>\n",
              "      <th>Fgroup</th>\n",
              "    </tr>\n",
              "  </thead>\n",
              "  <tbody>\n",
              "    <tr>\n",
              "      <th>0</th>\n",
              "      <td>0</td>\n",
              "      <td>32</td>\n",
              "      <td>Private</td>\n",
              "      <td>309513</td>\n",
              "      <td>Assoc-acdm</td>\n",
              "      <td>12</td>\n",
              "      <td>Married-civ-spouse</td>\n",
              "      <td>Craft-repair</td>\n",
              "      <td>Husband</td>\n",
              "      <td>White</td>\n",
              "      <td>Male</td>\n",
              "      <td>0</td>\n",
              "      <td>0</td>\n",
              "      <td>40</td>\n",
              "      <td>United-States</td>\n",
              "      <td>0.0</td>\n",
              "      <td>(30.0, 33.0]</td>\n",
              "      <td>34</td>\n",
              "      <td>(261497.0, 328051.0]</td>\n",
              "      <td>9</td>\n",
              "    </tr>\n",
              "    <tr>\n",
              "      <th>1</th>\n",
              "      <td>1</td>\n",
              "      <td>33</td>\n",
              "      <td>Private</td>\n",
              "      <td>205469</td>\n",
              "      <td>Some-college</td>\n",
              "      <td>10</td>\n",
              "      <td>Married-civ-spouse</td>\n",
              "      <td>Exec-managerial</td>\n",
              "      <td>Husband</td>\n",
              "      <td>White</td>\n",
              "      <td>Male</td>\n",
              "      <td>0</td>\n",
              "      <td>0</td>\n",
              "      <td>40</td>\n",
              "      <td>United-States</td>\n",
              "      <td>1.0</td>\n",
              "      <td>(30.0, 33.0]</td>\n",
              "      <td>34</td>\n",
              "      <td>(195994.0, 220066.0]</td>\n",
              "      <td>7</td>\n",
              "    </tr>\n",
              "    <tr>\n",
              "      <th>2</th>\n",
              "      <td>2</td>\n",
              "      <td>46</td>\n",
              "      <td>Private</td>\n",
              "      <td>149949</td>\n",
              "      <td>Some-college</td>\n",
              "      <td>10</td>\n",
              "      <td>Married-civ-spouse</td>\n",
              "      <td>Craft-repair</td>\n",
              "      <td>Husband</td>\n",
              "      <td>White</td>\n",
              "      <td>Male</td>\n",
              "      <td>0</td>\n",
              "      <td>0</td>\n",
              "      <td>40</td>\n",
              "      <td>United-States</td>\n",
              "      <td>0.0</td>\n",
              "      <td>(45.0, 50.0]</td>\n",
              "      <td>45</td>\n",
              "      <td>(131310.0, 158800.0]</td>\n",
              "      <td>5</td>\n",
              "    </tr>\n",
              "    <tr>\n",
              "      <th>3</th>\n",
              "      <td>3</td>\n",
              "      <td>23</td>\n",
              "      <td>Private</td>\n",
              "      <td>193090</td>\n",
              "      <td>Bachelors</td>\n",
              "      <td>13</td>\n",
              "      <td>Never-married</td>\n",
              "      <td>Adm-clerical</td>\n",
              "      <td>Own-child</td>\n",
              "      <td>White</td>\n",
              "      <td>Female</td>\n",
              "      <td>0</td>\n",
              "      <td>0</td>\n",
              "      <td>30</td>\n",
              "      <td>United-States</td>\n",
              "      <td>0.0</td>\n",
              "      <td>(22.0, 26.0]</td>\n",
              "      <td>22</td>\n",
              "      <td>(178251.0, 195994.0]</td>\n",
              "      <td>7</td>\n",
              "    </tr>\n",
              "    <tr>\n",
              "      <th>4</th>\n",
              "      <td>4</td>\n",
              "      <td>55</td>\n",
              "      <td>Private</td>\n",
              "      <td>60193</td>\n",
              "      <td>HS-grad</td>\n",
              "      <td>9</td>\n",
              "      <td>Divorced</td>\n",
              "      <td>Adm-clerical</td>\n",
              "      <td>Not-in-family</td>\n",
              "      <td>White</td>\n",
              "      <td>Female</td>\n",
              "      <td>0</td>\n",
              "      <td>0</td>\n",
              "      <td>40</td>\n",
              "      <td>United-States</td>\n",
              "      <td>0.0</td>\n",
              "      <td>(50.0, 57.0]</td>\n",
              "      <td>55</td>\n",
              "      <td>(18826.999, 66434.0]</td>\n",
              "      <td>2</td>\n",
              "    </tr>\n",
              "  </tbody>\n",
              "</table>\n",
              "</div>"
            ],
            "text/plain": [
              "   id  age workclass  fnlwgt     education  education.num      marital.status  \\\n",
              "0   0   32   Private  309513    Assoc-acdm             12  Married-civ-spouse   \n",
              "1   1   33   Private  205469  Some-college             10  Married-civ-spouse   \n",
              "2   2   46   Private  149949  Some-college             10  Married-civ-spouse   \n",
              "3   3   23   Private  193090     Bachelors             13       Never-married   \n",
              "4   4   55   Private   60193       HS-grad              9            Divorced   \n",
              "\n",
              "        occupation   relationship   race     sex  capital.gain  capital.loss  \\\n",
              "0     Craft-repair        Husband  White    Male             0             0   \n",
              "1  Exec-managerial        Husband  White    Male             0             0   \n",
              "2     Craft-repair        Husband  White    Male             0             0   \n",
              "3     Adm-clerical      Own-child  White  Female             0             0   \n",
              "4     Adm-clerical  Not-in-family  White  Female             0             0   \n",
              "\n",
              "   hours.per.week native.country  target     age_range  Agroup  \\\n",
              "0              40  United-States     0.0  (30.0, 33.0]      34   \n",
              "1              40  United-States     1.0  (30.0, 33.0]      34   \n",
              "2              40  United-States     0.0  (45.0, 50.0]      45   \n",
              "3              30  United-States     0.0  (22.0, 26.0]      22   \n",
              "4              40  United-States     0.0  (50.0, 57.0]      55   \n",
              "\n",
              "           fnlwgt_Range  Fgroup  \n",
              "0  (261497.0, 328051.0]       9  \n",
              "1  (195994.0, 220066.0]       7  \n",
              "2  (131310.0, 158800.0]       5  \n",
              "3  (178251.0, 195994.0]       7  \n",
              "4  (18826.999, 66434.0]       2  "
            ]
          },
          "execution_count": 39,
          "metadata": {},
          "output_type": "execute_result"
        }
      ],
      "source": [
        "temp['Fgroup'] = 0\n",
        "\n",
        "temp.loc[temp['fnlwgt'] <= 18826,'Fgroup'] = 18826\n",
        "temp.loc[(temp['fnlwgt'] > 18826) & (temp['fnlwgt'] <= 42630), 'Fgroup'] = 1\n",
        "temp.loc[(temp['fnlwgt'] > 42630) & (temp['fnlwgt'] <= 86308), 'Fgroup'] = 2\n",
        "temp.loc[(temp['fnlwgt'] > 86308) & (temp['fnlwgt'] <= 118746), 'Fgroup'] = 3\n",
        "temp.loc[(temp['fnlwgt'] > 118746) & (temp['fnlwgt'] < 145055), 'Fgroup'] = 4\n",
        "temp.loc[(temp['fnlwgt'] >= 145055) & (temp['fnlwgt'] < 168525), 'Fgroup'] = 5\n",
        "temp.loc[(temp['fnlwgt'] >= 168525) & (temp['fnlwgt'] <= 187122), 'Fgroup'] = 6\n",
        "temp.loc[(temp['fnlwgt'] > 187122) & (temp['fnlwgt'] <= 208030), 'Fgroup'] = 7\n",
        "temp.loc[(temp['fnlwgt'] > 208030) & (temp['fnlwgt'] <= 240781), 'Fgroup'] = 8\n",
        "temp.loc[temp['fnlwgt'] > 240781, 'Fgroup'] = 9\n",
        "\n",
        "temp.head()"
      ]
    },
    {
      "cell_type": "markdown",
      "id": "Ln74TnKoLboI",
      "metadata": {
        "id": "Ln74TnKoLboI"
      },
      "source": [
        "### education 분석"
      ]
    },
    {
      "cell_type": "code",
      "execution_count": null,
      "id": "bd-3kM47Ld1l",
      "metadata": {
        "colab": {
          "base_uri": "https://localhost:8080/"
        },
        "id": "bd-3kM47Ld1l",
        "outputId": "f8346151-7522-45f7-d17f-507d3f4c89fa"
      },
      "outputs": [
        {
          "data": {
            "text/plain": [
              "HS-grad         10501\n",
              "Some-college     7291\n",
              "Bachelors        5355\n",
              "Masters          1723\n",
              "Assoc-voc        1382\n",
              "11th             1175\n",
              "Assoc-acdm       1067\n",
              "10th              933\n",
              "7th-8th           646\n",
              "Prof-school       576\n",
              "9th               514\n",
              "12th              433\n",
              "Doctorate         413\n",
              "5th-6th           333\n",
              "1st-4th           168\n",
              "Preschool          51\n",
              "Name: education, dtype: int64"
            ]
          },
          "execution_count": 40,
          "metadata": {},
          "output_type": "execute_result"
        }
      ],
      "source": [
        "temp['education'].value_counts()"
      ]
    },
    {
      "cell_type": "markdown",
      "id": "InTT-GZgkZ8v",
      "metadata": {
        "id": "InTT-GZgkZ8v"
      },
      "source": [
        "### education.num 분석"
      ]
    },
    {
      "cell_type": "code",
      "execution_count": null,
      "id": "Ejfd3-5xkeVp",
      "metadata": {
        "colab": {
          "base_uri": "https://localhost:8080/"
        },
        "id": "Ejfd3-5xkeVp",
        "outputId": "7f18a3cf-676b-4368-9876-4249b245805c"
      },
      "outputs": [
        {
          "data": {
            "text/plain": [
              "education.num\n",
              "1     0.000000\n",
              "2     0.031250\n",
              "3     0.045685\n",
              "4     0.060847\n",
              "5     0.047619\n",
              "6     0.058824\n",
              "7     0.045181\n",
              "8     0.056225\n",
              "9     0.151635\n",
              "10    0.189501\n",
              "11    0.262431\n",
              "12    0.251701\n",
              "13    0.414145\n",
              "14    0.552660\n",
              "15    0.720930\n",
              "16    0.738318\n",
              "Name: target, dtype: float64"
            ]
          },
          "execution_count": 41,
          "metadata": {},
          "output_type": "execute_result"
        }
      ],
      "source": [
        "survpct(temp['education.num'])"
      ]
    },
    {
      "cell_type": "markdown",
      "id": "_H3WAO_aLlE3",
      "metadata": {
        "id": "_H3WAO_aLlE3"
      },
      "source": [
        "### marital.status 분석"
      ]
    },
    {
      "cell_type": "code",
      "execution_count": null,
      "id": "RdLtOMQ6LnDO",
      "metadata": {
        "colab": {
          "base_uri": "https://localhost:8080/"
        },
        "id": "RdLtOMQ6LnDO",
        "outputId": "d87b3dcd-64de-4b3f-89a6-bda554b6cbe2"
      },
      "outputs": [
        {
          "data": {
            "text/plain": [
              "Married-civ-spouse       14976\n",
              "Never-married            10683\n",
              "Divorced                  4443\n",
              "Separated                 1025\n",
              "Widowed                    993\n",
              "Married-spouse-absent      418\n",
              "Married-AF-spouse           23\n",
              "Name: marital.status, dtype: int64"
            ]
          },
          "execution_count": 42,
          "metadata": {},
          "output_type": "execute_result"
        }
      ],
      "source": [
        "temp['marital.status'].value_counts()"
      ]
    },
    {
      "cell_type": "markdown",
      "id": "KdFjNQn-NGMw",
      "metadata": {
        "id": "KdFjNQn-NGMw"
      },
      "source": [
        "### marital.status 분석"
      ]
    },
    {
      "cell_type": "markdown",
      "id": "N9fEFNyNkytN",
      "metadata": {
        "id": "N9fEFNyNkytN"
      },
      "source": [
        "### capital.gain 분석"
      ]
    },
    {
      "cell_type": "code",
      "execution_count": null,
      "id": "VZ11_mIdkeTa",
      "metadata": {
        "colab": {
          "base_uri": "https://localhost:8080/"
        },
        "id": "VZ11_mIdkeTa",
        "outputId": "e1f5f190-8b86-49a7-f9b7-4caebafcda3c"
      },
      "outputs": [
        {
          "data": {
            "text/plain": [
              "capital.gain\n",
              "0        0.201534\n",
              "114      0.000000\n",
              "401      0.000000\n",
              "594      0.000000\n",
              "914      0.000000\n",
              "           ...   \n",
              "25236    1.000000\n",
              "27828    1.000000\n",
              "34095    0.000000\n",
              "41310    0.000000\n",
              "99999    1.000000\n",
              "Name: target, Length: 119, dtype: float64"
            ]
          },
          "execution_count": 43,
          "metadata": {},
          "output_type": "execute_result"
        }
      ],
      "source": [
        "survpct(temp['capital.gain'])"
      ]
    },
    {
      "cell_type": "code",
      "execution_count": null,
      "id": "ogSemPj3rlby",
      "metadata": {
        "id": "ogSemPj3rlby"
      },
      "outputs": [],
      "source": [
        "temp['capital_gain'] = temp['capital.gain']"
      ]
    },
    {
      "cell_type": "code",
      "execution_count": null,
      "id": "FgZlF9nBz168",
      "metadata": {
        "colab": {
          "base_uri": "https://localhost:8080/",
          "height": 246
        },
        "id": "FgZlF9nBz168",
        "outputId": "de9cfa2f-5f4a-476a-d5dc-07f0c1aed112"
      },
      "outputs": [
        {
          "data": {
            "image/png": "[encoded data removed]",
            "text/plain": [
              "<Figure size 360x216 with 1 Axes>"
            ]
          },
          "metadata": {
            "needs_background": "light"
          },
          "output_type": "display_data"
        }
      ],
      "source": [
        "sns.factorplot('Agroup', 'capital_gain', data=temp)\n",
        "fig = plt.gcf()\n",
        "fig.set_size_inches(5, 3)\n",
        "plt.show()"
      ]
    },
    {
      "cell_type": "code",
      "execution_count": null,
      "id": "VHfyaCpEdTUO",
      "metadata": {
        "colab": {
          "base_uri": "https://localhost:8080/"
        },
        "id": "VHfyaCpEdTUO",
        "outputId": "f90ef9bb-79ec-4265-e985-d61ac27fac69"
      },
      "outputs": [
        {
          "data": {
            "text/plain": [
              "0        29849\n",
              "15024      347\n",
              "7688       284\n",
              "7298       246\n",
              "99999      159\n",
              "         ...  \n",
              "5060         1\n",
              "4931         1\n",
              "22040        1\n",
              "2387         1\n",
              "1455         1\n",
              "Name: capital_gain, Length: 119, dtype: int64"
            ]
          },
          "execution_count": 46,
          "metadata": {},
          "output_type": "execute_result"
        }
      ],
      "source": [
        "temp['capital_gain'].value_counts()"
      ]
    },
    {
      "cell_type": "markdown",
      "id": "ZeCs3mHg8Rj4",
      "metadata": {
        "id": "ZeCs3mHg8Rj4"
      },
      "source": [
        "#### capital_gain은 0인 값이 많기 때문에 skip합니다."
      ]
    },
    {
      "cell_type": "code",
      "execution_count": null,
      "id": "Jrp1cU_bfj9b",
      "metadata": {
        "colab": {
          "base_uri": "https://localhost:8080/",
          "height": 386
        },
        "id": "Jrp1cU_bfj9b",
        "outputId": "4421d2e8-55af-4db6-f6e1-bf52020be55f"
      },
      "outputs": [
        {
          "data": {
            "text/html": [
              "<div>\n",
              "<style scoped>\n",
              "    .dataframe tbody tr th:only-of-type {\n",
              "        vertical-align: middle;\n",
              "    }\n",
              "\n",
              "    .dataframe tbody tr th {\n",
              "        vertical-align: top;\n",
              "    }\n",
              "\n",
              "    .dataframe thead th {\n",
              "        text-align: right;\n",
              "    }\n",
              "</style>\n",
              "<table border=\"1\" class=\"dataframe\">\n",
              "  <thead>\n",
              "    <tr style=\"text-align: right;\">\n",
              "      <th></th>\n",
              "      <th>id</th>\n",
              "      <th>age</th>\n",
              "      <th>workclass</th>\n",
              "      <th>fnlwgt</th>\n",
              "      <th>education</th>\n",
              "      <th>education.num</th>\n",
              "      <th>marital.status</th>\n",
              "      <th>occupation</th>\n",
              "      <th>relationship</th>\n",
              "      <th>race</th>\n",
              "      <th>...</th>\n",
              "      <th>capital.gain</th>\n",
              "      <th>capital.loss</th>\n",
              "      <th>hours.per.week</th>\n",
              "      <th>native.country</th>\n",
              "      <th>target</th>\n",
              "      <th>age_range</th>\n",
              "      <th>Agroup</th>\n",
              "      <th>fnlwgt_Range</th>\n",
              "      <th>Fgroup</th>\n",
              "      <th>capital_gain</th>\n",
              "    </tr>\n",
              "  </thead>\n",
              "  <tbody>\n",
              "    <tr>\n",
              "      <th>0</th>\n",
              "      <td>0</td>\n",
              "      <td>32</td>\n",
              "      <td>Private</td>\n",
              "      <td>309513</td>\n",
              "      <td>Assoc-acdm</td>\n",
              "      <td>12</td>\n",
              "      <td>Married-civ-spouse</td>\n",
              "      <td>Craft-repair</td>\n",
              "      <td>Husband</td>\n",
              "      <td>White</td>\n",
              "      <td>...</td>\n",
              "      <td>0</td>\n",
              "      <td>0</td>\n",
              "      <td>40</td>\n",
              "      <td>United-States</td>\n",
              "      <td>0.0</td>\n",
              "      <td>(30.0, 33.0]</td>\n",
              "      <td>34</td>\n",
              "      <td>(261497.0, 328051.0]</td>\n",
              "      <td>9</td>\n",
              "      <td>0</td>\n",
              "    </tr>\n",
              "    <tr>\n",
              "      <th>1</th>\n",
              "      <td>1</td>\n",
              "      <td>33</td>\n",
              "      <td>Private</td>\n",
              "      <td>205469</td>\n",
              "      <td>Some-college</td>\n",
              "      <td>10</td>\n",
              "      <td>Married-civ-spouse</td>\n",
              "      <td>Exec-managerial</td>\n",
              "      <td>Husband</td>\n",
              "      <td>White</td>\n",
              "      <td>...</td>\n",
              "      <td>0</td>\n",
              "      <td>0</td>\n",
              "      <td>40</td>\n",
              "      <td>United-States</td>\n",
              "      <td>1.0</td>\n",
              "      <td>(30.0, 33.0]</td>\n",
              "      <td>34</td>\n",
              "      <td>(195994.0, 220066.0]</td>\n",
              "      <td>7</td>\n",
              "      <td>0</td>\n",
              "    </tr>\n",
              "    <tr>\n",
              "      <th>2</th>\n",
              "      <td>2</td>\n",
              "      <td>46</td>\n",
              "      <td>Private</td>\n",
              "      <td>149949</td>\n",
              "      <td>Some-college</td>\n",
              "      <td>10</td>\n",
              "      <td>Married-civ-spouse</td>\n",
              "      <td>Craft-repair</td>\n",
              "      <td>Husband</td>\n",
              "      <td>White</td>\n",
              "      <td>...</td>\n",
              "      <td>0</td>\n",
              "      <td>0</td>\n",
              "      <td>40</td>\n",
              "      <td>United-States</td>\n",
              "      <td>0.0</td>\n",
              "      <td>(45.0, 50.0]</td>\n",
              "      <td>45</td>\n",
              "      <td>(131310.0, 158800.0]</td>\n",
              "      <td>5</td>\n",
              "      <td>0</td>\n",
              "    </tr>\n",
              "    <tr>\n",
              "      <th>3</th>\n",
              "      <td>3</td>\n",
              "      <td>23</td>\n",
              "      <td>Private</td>\n",
              "      <td>193090</td>\n",
              "      <td>Bachelors</td>\n",
              "      <td>13</td>\n",
              "      <td>Never-married</td>\n",
              "      <td>Adm-clerical</td>\n",
              "      <td>Own-child</td>\n",
              "      <td>White</td>\n",
              "      <td>...</td>\n",
              "      <td>0</td>\n",
              "      <td>0</td>\n",
              "      <td>30</td>\n",
              "      <td>United-States</td>\n",
              "      <td>0.0</td>\n",
              "      <td>(22.0, 26.0]</td>\n",
              "      <td>22</td>\n",
              "      <td>(178251.0, 195994.0]</td>\n",
              "      <td>7</td>\n",
              "      <td>0</td>\n",
              "    </tr>\n",
              "    <tr>\n",
              "      <th>4</th>\n",
              "      <td>4</td>\n",
              "      <td>55</td>\n",
              "      <td>Private</td>\n",
              "      <td>60193</td>\n",
              "      <td>HS-grad</td>\n",
              "      <td>9</td>\n",
              "      <td>Divorced</td>\n",
              "      <td>Adm-clerical</td>\n",
              "      <td>Not-in-family</td>\n",
              "      <td>White</td>\n",
              "      <td>...</td>\n",
              "      <td>0</td>\n",
              "      <td>0</td>\n",
              "      <td>40</td>\n",
              "      <td>United-States</td>\n",
              "      <td>0.0</td>\n",
              "      <td>(50.0, 57.0]</td>\n",
              "      <td>55</td>\n",
              "      <td>(18826.999, 66434.0]</td>\n",
              "      <td>2</td>\n",
              "      <td>0</td>\n",
              "    </tr>\n",
              "  </tbody>\n",
              "</table>\n",
              "<p>5 rows × 21 columns</p>\n",
              "</div>"
            ],
            "text/plain": [
              "   id  age workclass  fnlwgt     education  education.num      marital.status  \\\n",
              "0   0   32   Private  309513    Assoc-acdm             12  Married-civ-spouse   \n",
              "1   1   33   Private  205469  Some-college             10  Married-civ-spouse   \n",
              "2   2   46   Private  149949  Some-college             10  Married-civ-spouse   \n",
              "3   3   23   Private  193090     Bachelors             13       Never-married   \n",
              "4   4   55   Private   60193       HS-grad              9            Divorced   \n",
              "\n",
              "        occupation   relationship   race  ... capital.gain  capital.loss  \\\n",
              "0     Craft-repair        Husband  White  ...            0             0   \n",
              "1  Exec-managerial        Husband  White  ...            0             0   \n",
              "2     Craft-repair        Husband  White  ...            0             0   \n",
              "3     Adm-clerical      Own-child  White  ...            0             0   \n",
              "4     Adm-clerical  Not-in-family  White  ...            0             0   \n",
              "\n",
              "   hours.per.week  native.country target     age_range Agroup  \\\n",
              "0              40   United-States    0.0  (30.0, 33.0]     34   \n",
              "1              40   United-States    1.0  (30.0, 33.0]     34   \n",
              "2              40   United-States    0.0  (45.0, 50.0]     45   \n",
              "3              30   United-States    0.0  (22.0, 26.0]     22   \n",
              "4              40   United-States    0.0  (50.0, 57.0]     55   \n",
              "\n",
              "           fnlwgt_Range Fgroup  capital_gain  \n",
              "0  (261497.0, 328051.0]      9             0  \n",
              "1  (195994.0, 220066.0]      7             0  \n",
              "2  (131310.0, 158800.0]      5             0  \n",
              "3  (178251.0, 195994.0]      7             0  \n",
              "4  (18826.999, 66434.0]      2             0  \n",
              "\n",
              "[5 rows x 21 columns]"
            ]
          },
          "execution_count": 47,
          "metadata": {},
          "output_type": "execute_result"
        }
      ],
      "source": [
        "temp.head()"
      ]
    },
    {
      "cell_type": "markdown",
      "id": "UlZAZQXs9nPA",
      "metadata": {
        "id": "UlZAZQXs9nPA"
      },
      "source": [
        "### hours.per.week 분석"
      ]
    },
    {
      "cell_type": "code",
      "execution_count": null,
      "id": "rhu6A8Rp9sGy",
      "metadata": {
        "id": "rhu6A8Rp9sGy"
      },
      "outputs": [],
      "source": [
        "survpct(temp['hours.per.week'])\n",
        "temp['HPWgroup'] = pd.cut(temp['hours.per.week'], 10)"
      ]
    },
    {
      "cell_type": "code",
      "execution_count": null,
      "id": "EyIHQKqH_72T",
      "metadata": {
        "colab": {
          "base_uri": "https://localhost:8080/"
        },
        "id": "EyIHQKqH_72T",
        "outputId": "3559ef16-5129-4b7e-981c-c45c36e0d5e1"
      },
      "outputs": [
        {
          "data": {
            "text/plain": [
              "(30.4, 40.2]     17735\n",
              "(40.2, 50.0]      5938\n",
              "(20.6, 30.4]      2317\n",
              "(10.8, 20.6]      2192\n",
              "(59.8, 69.6]      1796\n",
              "(50.0, 59.8]      1058\n",
              "(0.902, 10.8]      736\n",
              "(69.6, 79.4]       448\n",
              "(79.4, 89.2]       202\n",
              "(89.2, 99.0]       139\n",
              "Name: HPWgroup, dtype: int64"
            ]
          },
          "execution_count": 49,
          "metadata": {},
          "output_type": "execute_result"
        }
      ],
      "source": [
        "temp['HPWgroup'].value_counts()"
      ]
    },
    {
      "cell_type": "code",
      "execution_count": null,
      "id": "9SVF4O2i-u8G",
      "metadata": {
        "colab": {
          "base_uri": "https://localhost:8080/"
        },
        "id": "9SVF4O2i-u8G",
        "outputId": "33326217-36c3-4374-e2d7-080223f08a00"
      },
      "outputs": [
        {
          "name": "stdout",
          "output_type": "stream",
          "text": [
            "<class 'pandas.core.frame.DataFrame'>\n",
            "Int64Index: 32561 entries, 0 to 15080\n",
            "Data columns (total 22 columns):\n",
            " #   Column          Non-Null Count  Dtype   \n",
            "---  ------          --------------  -----   \n",
            " 0   id              32561 non-null  int64   \n",
            " 1   age             32561 non-null  int64   \n",
            " 2   workclass       30725 non-null  object  \n",
            " 3   fnlwgt          32561 non-null  int64   \n",
            " 4   education       32561 non-null  object  \n",
            " 5   education.num   32561 non-null  int64   \n",
            " 6   marital.status  32561 non-null  object  \n",
            " 7   occupation      30718 non-null  object  \n",
            " 8   relationship    32561 non-null  object  \n",
            " 9   race            32561 non-null  object  \n",
            " 10  sex             32561 non-null  object  \n",
            " 11  capital.gain    32561 non-null  int64   \n",
            " 12  capital.loss    32561 non-null  int64   \n",
            " 13  hours.per.week  32561 non-null  int64   \n",
            " 14  native.country  31978 non-null  object  \n",
            " 15  target          17480 non-null  float64 \n",
            " 16  age_range       30162 non-null  category\n",
            " 17  Agroup          32561 non-null  int64   \n",
            " 18  fnlwgt_Range    30162 non-null  category\n",
            " 19  Fgroup          32561 non-null  int64   \n",
            " 20  capital_gain    32561 non-null  int64   \n",
            " 21  HPWgroup        32561 non-null  category\n",
            "dtypes: category(3), float64(1), int64(10), object(8)\n",
            "memory usage: 5.1+ MB\n"
          ]
        }
      ],
      "source": [
        "temp.info()"
      ]
    },
    {
      "cell_type": "markdown",
      "id": "3676aef2-a5a7-4678-bf87-2df3d0c5cddf",
      "metadata": {
        "id": "3676aef2-a5a7-4678-bf87-2df3d0c5cddf"
      },
      "source": [
        "## 학습 Feature 항목 결정\n"
      ]
    },
    {
      "cell_type": "code",
      "execution_count": null,
      "id": "cbd28ae4-ff0c-496e-a2b9-c269405bb73f",
      "metadata": {
        "id": "cbd28ae4-ff0c-496e-a2b9-c269405bb73f"
      },
      "outputs": [],
      "source": [
        "temp['F1'] = temp['Agroup']\n",
        "temp['F2'] = temp['Fgroup']\n",
        "temp['F3'] = temp['workclass']\n",
        "temp['F4'] = temp['education']\n",
        "temp['F5'] = temp['education.num']\n",
        "temp['F6'] = temp['marital.status']\n",
        "temp['F7'] = temp['occupation']\n",
        "temp['F8'] = temp['relationship']\n",
        "temp['F9'] = temp['race']\n",
        "temp['F10'] = temp['sex']\n",
        "temp['F11'] = temp['native.country']"
      ]
    },
    {
      "cell_type": "code",
      "execution_count": null,
      "id": "6xThD7xlAM2O",
      "metadata": {
        "id": "6xThD7xlAM2O"
      },
      "outputs": [],
      "source": [
        "from sklearn.preprocessing import OneHotEncoder, LabelEncoder"
      ]
    },
    {
      "cell_type": "markdown",
      "source": [
        "### Label 인코딩"
      ],
      "metadata": {
        "id": "DGPwuGpD06qi"
      },
      "id": "DGPwuGpD06qi"
    },
    {
      "cell_type": "code",
      "execution_count": null,
      "id": "IPUDd-LfAOoH",
      "metadata": {
        "id": "IPUDd-LfAOoH"
      },
      "outputs": [],
      "source": [
        "dfl = pd.DataFrame() # for label encoding\n",
        "\n",
        "good_columns = ['F1', 'F2', 'F3', 'F4', 'F5', 'F6', 'F7', 'F8', 'F9', 'F10', 'F11']\n",
        "dfl[good_columns] = temp[good_columns]"
      ]
    },
    {
      "cell_type": "code",
      "execution_count": null,
      "id": "hkZdTBCyAUVW",
      "metadata": {
        "colab": {
          "base_uri": "https://localhost:8080/",
          "height": 206
        },
        "id": "hkZdTBCyAUVW",
        "outputId": "89530ae9-33d5-4bcc-b2e2-0b8f7d8fb622"
      },
      "outputs": [
        {
          "data": {
            "text/html": [
              "<div>\n",
              "<style scoped>\n",
              "    .dataframe tbody tr th:only-of-type {\n",
              "        vertical-align: middle;\n",
              "    }\n",
              "\n",
              "    .dataframe tbody tr th {\n",
              "        vertical-align: top;\n",
              "    }\n",
              "\n",
              "    .dataframe thead th {\n",
              "        text-align: right;\n",
              "    }\n",
              "</style>\n",
              "<table border=\"1\" class=\"dataframe\">\n",
              "  <thead>\n",
              "    <tr style=\"text-align: right;\">\n",
              "      <th></th>\n",
              "      <th>F1</th>\n",
              "      <th>F2</th>\n",
              "      <th>F3</th>\n",
              "      <th>F4</th>\n",
              "      <th>F5</th>\n",
              "      <th>F6</th>\n",
              "      <th>F7</th>\n",
              "      <th>F8</th>\n",
              "      <th>F9</th>\n",
              "      <th>F10</th>\n",
              "      <th>F11</th>\n",
              "    </tr>\n",
              "  </thead>\n",
              "  <tbody>\n",
              "    <tr>\n",
              "      <th>0</th>\n",
              "      <td>34</td>\n",
              "      <td>9</td>\n",
              "      <td>Private</td>\n",
              "      <td>Assoc-acdm</td>\n",
              "      <td>12</td>\n",
              "      <td>Married-civ-spouse</td>\n",
              "      <td>Craft-repair</td>\n",
              "      <td>Husband</td>\n",
              "      <td>White</td>\n",
              "      <td>Male</td>\n",
              "      <td>United-States</td>\n",
              "    </tr>\n",
              "    <tr>\n",
              "      <th>1</th>\n",
              "      <td>34</td>\n",
              "      <td>7</td>\n",
              "      <td>Private</td>\n",
              "      <td>Some-college</td>\n",
              "      <td>10</td>\n",
              "      <td>Married-civ-spouse</td>\n",
              "      <td>Exec-managerial</td>\n",
              "      <td>Husband</td>\n",
              "      <td>White</td>\n",
              "      <td>Male</td>\n",
              "      <td>United-States</td>\n",
              "    </tr>\n",
              "    <tr>\n",
              "      <th>2</th>\n",
              "      <td>45</td>\n",
              "      <td>5</td>\n",
              "      <td>Private</td>\n",
              "      <td>Some-college</td>\n",
              "      <td>10</td>\n",
              "      <td>Married-civ-spouse</td>\n",
              "      <td>Craft-repair</td>\n",
              "      <td>Husband</td>\n",
              "      <td>White</td>\n",
              "      <td>Male</td>\n",
              "      <td>United-States</td>\n",
              "    </tr>\n",
              "    <tr>\n",
              "      <th>3</th>\n",
              "      <td>22</td>\n",
              "      <td>7</td>\n",
              "      <td>Private</td>\n",
              "      <td>Bachelors</td>\n",
              "      <td>13</td>\n",
              "      <td>Never-married</td>\n",
              "      <td>Adm-clerical</td>\n",
              "      <td>Own-child</td>\n",
              "      <td>White</td>\n",
              "      <td>Female</td>\n",
              "      <td>United-States</td>\n",
              "    </tr>\n",
              "    <tr>\n",
              "      <th>4</th>\n",
              "      <td>55</td>\n",
              "      <td>2</td>\n",
              "      <td>Private</td>\n",
              "      <td>HS-grad</td>\n",
              "      <td>9</td>\n",
              "      <td>Divorced</td>\n",
              "      <td>Adm-clerical</td>\n",
              "      <td>Not-in-family</td>\n",
              "      <td>White</td>\n",
              "      <td>Female</td>\n",
              "      <td>United-States</td>\n",
              "    </tr>\n",
              "  </tbody>\n",
              "</table>\n",
              "</div>"
            ],
            "text/plain": [
              "   F1  F2       F3            F4  F5                  F6               F7  \\\n",
              "0  34   9  Private    Assoc-acdm  12  Married-civ-spouse     Craft-repair   \n",
              "1  34   7  Private  Some-college  10  Married-civ-spouse  Exec-managerial   \n",
              "2  45   5  Private  Some-college  10  Married-civ-spouse     Craft-repair   \n",
              "3  22   7  Private     Bachelors  13       Never-married     Adm-clerical   \n",
              "4  55   2  Private       HS-grad   9            Divorced     Adm-clerical   \n",
              "\n",
              "              F8     F9     F10            F11  \n",
              "0        Husband  White    Male  United-States  \n",
              "1        Husband  White    Male  United-States  \n",
              "2        Husband  White    Male  United-States  \n",
              "3      Own-child  White  Female  United-States  \n",
              "4  Not-in-family  White  Female  United-States  "
            ]
          },
          "execution_count": 54,
          "metadata": {},
          "output_type": "execute_result"
        }
      ],
      "source": [
        "dfl.head()"
      ]
    },
    {
      "cell_type": "markdown",
      "source": [
        "### One-Hot 인코딩"
      ],
      "metadata": {
        "id": "r309bM7_09r7"
      },
      "id": "r309bM7_09r7"
    },
    {
      "cell_type": "code",
      "execution_count": null,
      "id": "uHp36D3qAgap",
      "metadata": {
        "id": "uHp36D3qAgap"
      },
      "outputs": [],
      "source": [
        "dfh = dfl.copy()"
      ]
    },
    {
      "cell_type": "code",
      "execution_count": null,
      "id": "NtpKgzfTAhIx",
      "metadata": {
        "colab": {
          "base_uri": "https://localhost:8080/",
          "height": 206
        },
        "id": "NtpKgzfTAhIx",
        "outputId": "a899b567-487d-4794-85f7-a504e70800a7"
      },
      "outputs": [
        {
          "data": {
            "text/html": [
              "<div>\n",
              "<style scoped>\n",
              "    .dataframe tbody tr th:only-of-type {\n",
              "        vertical-align: middle;\n",
              "    }\n",
              "\n",
              "    .dataframe tbody tr th {\n",
              "        vertical-align: top;\n",
              "    }\n",
              "\n",
              "    .dataframe thead th {\n",
              "        text-align: right;\n",
              "    }\n",
              "</style>\n",
              "<table border=\"1\" class=\"dataframe\">\n",
              "  <thead>\n",
              "    <tr style=\"text-align: right;\">\n",
              "      <th></th>\n",
              "      <th>F1</th>\n",
              "      <th>F2</th>\n",
              "      <th>F3</th>\n",
              "      <th>F4</th>\n",
              "      <th>F5</th>\n",
              "      <th>F6</th>\n",
              "      <th>F7</th>\n",
              "      <th>F8</th>\n",
              "      <th>F9</th>\n",
              "      <th>F10</th>\n",
              "      <th>F11</th>\n",
              "    </tr>\n",
              "  </thead>\n",
              "  <tbody>\n",
              "    <tr>\n",
              "      <th>0</th>\n",
              "      <td>4</td>\n",
              "      <td>8</td>\n",
              "      <td>3</td>\n",
              "      <td>7</td>\n",
              "      <td>11</td>\n",
              "      <td>2</td>\n",
              "      <td>2</td>\n",
              "      <td>0</td>\n",
              "      <td>4</td>\n",
              "      <td>1</td>\n",
              "      <td>38</td>\n",
              "    </tr>\n",
              "    <tr>\n",
              "      <th>1</th>\n",
              "      <td>4</td>\n",
              "      <td>6</td>\n",
              "      <td>3</td>\n",
              "      <td>15</td>\n",
              "      <td>9</td>\n",
              "      <td>2</td>\n",
              "      <td>3</td>\n",
              "      <td>0</td>\n",
              "      <td>4</td>\n",
              "      <td>1</td>\n",
              "      <td>38</td>\n",
              "    </tr>\n",
              "    <tr>\n",
              "      <th>2</th>\n",
              "      <td>8</td>\n",
              "      <td>4</td>\n",
              "      <td>3</td>\n",
              "      <td>15</td>\n",
              "      <td>9</td>\n",
              "      <td>2</td>\n",
              "      <td>2</td>\n",
              "      <td>0</td>\n",
              "      <td>4</td>\n",
              "      <td>1</td>\n",
              "      <td>38</td>\n",
              "    </tr>\n",
              "    <tr>\n",
              "      <th>3</th>\n",
              "      <td>1</td>\n",
              "      <td>6</td>\n",
              "      <td>3</td>\n",
              "      <td>9</td>\n",
              "      <td>12</td>\n",
              "      <td>4</td>\n",
              "      <td>0</td>\n",
              "      <td>3</td>\n",
              "      <td>4</td>\n",
              "      <td>0</td>\n",
              "      <td>38</td>\n",
              "    </tr>\n",
              "    <tr>\n",
              "      <th>4</th>\n",
              "      <td>12</td>\n",
              "      <td>1</td>\n",
              "      <td>3</td>\n",
              "      <td>11</td>\n",
              "      <td>8</td>\n",
              "      <td>0</td>\n",
              "      <td>0</td>\n",
              "      <td>1</td>\n",
              "      <td>4</td>\n",
              "      <td>0</td>\n",
              "      <td>38</td>\n",
              "    </tr>\n",
              "  </tbody>\n",
              "</table>\n",
              "</div>"
            ],
            "text/plain": [
              "   F1  F2  F3  F4  F5  F6  F7  F8  F9  F10  F11\n",
              "0   4   8   3   7  11   2   2   0   4    1   38\n",
              "1   4   6   3  15   9   2   3   0   4    1   38\n",
              "2   8   4   3  15   9   2   2   0   4    1   38\n",
              "3   1   6   3   9  12   4   0   3   4    0   38\n",
              "4  12   1   3  11   8   0   0   1   4    0   38"
            ]
          },
          "execution_count": 56,
          "metadata": {},
          "output_type": "execute_result"
        }
      ],
      "source": [
        "dfl_enc = dfl.apply(LabelEncoder().fit_transform)\n",
        "                          \n",
        "dfl_enc.head()"
      ]
    },
    {
      "cell_type": "code",
      "execution_count": null,
      "id": "SH2LY4JJAdm5",
      "metadata": {
        "colab": {
          "base_uri": "https://localhost:8080/",
          "height": 317
        },
        "id": "SH2LY4JJAdm5",
        "outputId": "5c348edc-fb9f-4474-b394-4ae1eb445aa8"
      },
      "outputs": [
        {
          "data": {
            "text/html": [
              "<div>\n",
              "<style scoped>\n",
              "    .dataframe tbody tr th:only-of-type {\n",
              "        vertical-align: middle;\n",
              "    }\n",
              "\n",
              "    .dataframe tbody tr th {\n",
              "        vertical-align: top;\n",
              "    }\n",
              "\n",
              "    .dataframe thead th {\n",
              "        text-align: right;\n",
              "    }\n",
              "</style>\n",
              "<table border=\"1\" class=\"dataframe\">\n",
              "  <thead>\n",
              "    <tr style=\"text-align: right;\">\n",
              "      <th></th>\n",
              "      <th>F1_18</th>\n",
              "      <th>F1_22</th>\n",
              "      <th>F1_26</th>\n",
              "      <th>F1_30</th>\n",
              "      <th>F1_34</th>\n",
              "      <th>F1_38</th>\n",
              "      <th>F1_41</th>\n",
              "      <th>F1_43</th>\n",
              "      <th>F1_45</th>\n",
              "      <th>F1_47</th>\n",
              "      <th>...</th>\n",
              "      <th>F11_Portugal</th>\n",
              "      <th>F11_Puerto-Rico</th>\n",
              "      <th>F11_Scotland</th>\n",
              "      <th>F11_South</th>\n",
              "      <th>F11_Taiwan</th>\n",
              "      <th>F11_Thailand</th>\n",
              "      <th>F11_Trinadad&amp;Tobago</th>\n",
              "      <th>F11_United-States</th>\n",
              "      <th>F11_Vietnam</th>\n",
              "      <th>F11_Yugoslavia</th>\n",
              "    </tr>\n",
              "  </thead>\n",
              "  <tbody>\n",
              "    <tr>\n",
              "      <th>0</th>\n",
              "      <td>0</td>\n",
              "      <td>0</td>\n",
              "      <td>0</td>\n",
              "      <td>0</td>\n",
              "      <td>1</td>\n",
              "      <td>0</td>\n",
              "      <td>0</td>\n",
              "      <td>0</td>\n",
              "      <td>0</td>\n",
              "      <td>0</td>\n",
              "      <td>...</td>\n",
              "      <td>0</td>\n",
              "      <td>0</td>\n",
              "      <td>0</td>\n",
              "      <td>0</td>\n",
              "      <td>0</td>\n",
              "      <td>0</td>\n",
              "      <td>0</td>\n",
              "      <td>1</td>\n",
              "      <td>0</td>\n",
              "      <td>0</td>\n",
              "    </tr>\n",
              "    <tr>\n",
              "      <th>1</th>\n",
              "      <td>0</td>\n",
              "      <td>0</td>\n",
              "      <td>0</td>\n",
              "      <td>0</td>\n",
              "      <td>1</td>\n",
              "      <td>0</td>\n",
              "      <td>0</td>\n",
              "      <td>0</td>\n",
              "      <td>0</td>\n",
              "      <td>0</td>\n",
              "      <td>...</td>\n",
              "      <td>0</td>\n",
              "      <td>0</td>\n",
              "      <td>0</td>\n",
              "      <td>0</td>\n",
              "      <td>0</td>\n",
              "      <td>0</td>\n",
              "      <td>0</td>\n",
              "      <td>1</td>\n",
              "      <td>0</td>\n",
              "      <td>0</td>\n",
              "    </tr>\n",
              "    <tr>\n",
              "      <th>2</th>\n",
              "      <td>0</td>\n",
              "      <td>0</td>\n",
              "      <td>0</td>\n",
              "      <td>0</td>\n",
              "      <td>0</td>\n",
              "      <td>0</td>\n",
              "      <td>0</td>\n",
              "      <td>0</td>\n",
              "      <td>1</td>\n",
              "      <td>0</td>\n",
              "      <td>...</td>\n",
              "      <td>0</td>\n",
              "      <td>0</td>\n",
              "      <td>0</td>\n",
              "      <td>0</td>\n",
              "      <td>0</td>\n",
              "      <td>0</td>\n",
              "      <td>0</td>\n",
              "      <td>1</td>\n",
              "      <td>0</td>\n",
              "      <td>0</td>\n",
              "    </tr>\n",
              "    <tr>\n",
              "      <th>3</th>\n",
              "      <td>0</td>\n",
              "      <td>1</td>\n",
              "      <td>0</td>\n",
              "      <td>0</td>\n",
              "      <td>0</td>\n",
              "      <td>0</td>\n",
              "      <td>0</td>\n",
              "      <td>0</td>\n",
              "      <td>0</td>\n",
              "      <td>0</td>\n",
              "      <td>...</td>\n",
              "      <td>0</td>\n",
              "      <td>0</td>\n",
              "      <td>0</td>\n",
              "      <td>0</td>\n",
              "      <td>0</td>\n",
              "      <td>0</td>\n",
              "      <td>0</td>\n",
              "      <td>1</td>\n",
              "      <td>0</td>\n",
              "      <td>0</td>\n",
              "    </tr>\n",
              "    <tr>\n",
              "      <th>4</th>\n",
              "      <td>0</td>\n",
              "      <td>0</td>\n",
              "      <td>0</td>\n",
              "      <td>0</td>\n",
              "      <td>0</td>\n",
              "      <td>0</td>\n",
              "      <td>0</td>\n",
              "      <td>0</td>\n",
              "      <td>0</td>\n",
              "      <td>0</td>\n",
              "      <td>...</td>\n",
              "      <td>0</td>\n",
              "      <td>0</td>\n",
              "      <td>0</td>\n",
              "      <td>0</td>\n",
              "      <td>0</td>\n",
              "      <td>0</td>\n",
              "      <td>0</td>\n",
              "      <td>1</td>\n",
              "      <td>0</td>\n",
              "      <td>0</td>\n",
              "    </tr>\n",
              "  </tbody>\n",
              "</table>\n",
              "<p>5 rows × 140 columns</p>\n",
              "</div>"
            ],
            "text/plain": [
              "   F1_18  F1_22  F1_26  F1_30  F1_34  F1_38  F1_41  F1_43  F1_45  F1_47  ...  \\\n",
              "0      0      0      0      0      1      0      0      0      0      0  ...   \n",
              "1      0      0      0      0      1      0      0      0      0      0  ...   \n",
              "2      0      0      0      0      0      0      0      0      1      0  ...   \n",
              "3      0      1      0      0      0      0      0      0      0      0  ...   \n",
              "4      0      0      0      0      0      0      0      0      0      0  ...   \n",
              "\n",
              "   F11_Portugal  F11_Puerto-Rico  F11_Scotland  F11_South  F11_Taiwan  \\\n",
              "0             0                0             0          0           0   \n",
              "1             0                0             0          0           0   \n",
              "2             0                0             0          0           0   \n",
              "3             0                0             0          0           0   \n",
              "4             0                0             0          0           0   \n",
              "\n",
              "   F11_Thailand  F11_Trinadad&Tobago  F11_United-States  F11_Vietnam  \\\n",
              "0             0                    0                  1            0   \n",
              "1             0                    0                  1            0   \n",
              "2             0                    0                  1            0   \n",
              "3             0                    0                  1            0   \n",
              "4             0                    0                  1            0   \n",
              "\n",
              "   F11_Yugoslavia  \n",
              "0               0  \n",
              "1               0  \n",
              "2               0  \n",
              "3               0  \n",
              "4               0  \n",
              "\n",
              "[5 rows x 140 columns]"
            ]
          },
          "execution_count": 57,
          "metadata": {},
          "output_type": "execute_result"
        }
      ],
      "source": [
        "one_hot_cols = dfh.columns.tolist()\n",
        "dfh_enc = pd.get_dummies(dfh, columns=one_hot_cols)\n",
        "\n",
        "dfh_enc.head()"
      ]
    },
    {
      "cell_type": "markdown",
      "id": "8TCmr0hiwGMP",
      "metadata": {
        "id": "8TCmr0hiwGMP"
      },
      "source": [
        "## 머신러닝 모델"
      ]
    },
    {
      "cell_type": "code",
      "execution_count": null,
      "id": "RbcCCxsowMsk",
      "metadata": {
        "id": "RbcCCxsowMsk"
      },
      "outputs": [],
      "source": [
        "train = dfh_enc[:ntrain]\n",
        "test = dfh_enc[ntrain:]"
      ]
    },
    {
      "cell_type": "code",
      "execution_count": null,
      "id": "TbQ4A0_wwNeR",
      "metadata": {
        "id": "TbQ4A0_wwNeR"
      },
      "outputs": [],
      "source": [
        "X_test = test\n",
        "X_train = train"
      ]
    },
    {
      "cell_type": "code",
      "execution_count": null,
      "id": "RpinuZi6wNcy",
      "metadata": {
        "id": "RpinuZi6wNcy"
      },
      "outputs": [],
      "source": [
        "scaler = StandardScaler()\n",
        "X_train = scaler.fit_transform(X_train)\n",
        "X_test = scaler.transform(X_test)"
      ]
    },
    {
      "cell_type": "code",
      "execution_count": null,
      "id": "TnOVENc2wNZ7",
      "metadata": {
        "id": "TnOVENc2wNZ7"
      },
      "outputs": [],
      "source": [
        "ran = RandomForestClassifier(random_state=1)\n",
        "knn = KNeighborsClassifier()\n",
        "log = LogisticRegression()\n",
        "xgb = XGBClassifier()\n",
        "gbc = GradientBoostingClassifier()\n",
        "svc = SVC(probability=True)\n",
        "ext = ExtraTreesClassifier()\n",
        "ada = AdaBoostClassifier()\n",
        "gnb = GaussianNB()\n",
        "gpc = GaussianProcessClassifier()\n",
        "bag = BaggingClassifier()\n",
        "\n",
        "# 리스트 준비\n",
        "models = [ran, knn, log, xgb, gbc, svc, ext, ada, gnb, gpc, bag]         \n",
        "model_names = ['Random Forest', 'K Nearest Neighbour', 'Logistic Regression', 'XGBoost', 'Gradient Boosting', 'SVC', 'Extra Trees', 'AdaBoost', 'Gaussian Naive Bayes', 'Gaussian Process', 'Bagging Classifier']\n",
        "scores = {}\n",
        "\n",
        "# 이어서 연속적으로 모델을 학습 시키고 교차 검증합니다.\n",
        "for ind, mod in enumerate(models):\n",
        "    mod.fit(X_train, y_train)\n",
        "    acc = cross_val_score(mod, X_train, y_train, scoring = \"accuracy\", cv = 5)\n",
        "    scores[model_names[ind]] = acc"
      ]
    },
    {
      "cell_type": "code",
      "execution_count": null,
      "id": "EBEsuzHWwNSy",
      "metadata": {
        "colab": {
          "base_uri": "https://localhost:8080/",
          "height": 81
        },
        "id": "EBEsuzHWwNSy",
        "outputId": "4c03668c-f332-42ab-99d9-d23d04007dd2"
      },
      "outputs": [
        {
          "data": {
            "text/html": [
              "<div>\n",
              "<style scoped>\n",
              "    .dataframe tbody tr th:only-of-type {\n",
              "        vertical-align: middle;\n",
              "    }\n",
              "\n",
              "    .dataframe tbody tr th {\n",
              "        vertical-align: top;\n",
              "    }\n",
              "\n",
              "    .dataframe thead th {\n",
              "        text-align: right;\n",
              "    }\n",
              "</style>\n",
              "<table border=\"1\" class=\"dataframe\">\n",
              "  <thead>\n",
              "    <tr style=\"text-align: right;\">\n",
              "      <th></th>\n",
              "      <th>0</th>\n",
              "      <th>1</th>\n",
              "      <th>2</th>\n",
              "      <th>3</th>\n",
              "      <th>4</th>\n",
              "      <th>mean</th>\n",
              "    </tr>\n",
              "  </thead>\n",
              "  <tbody>\n",
              "    <tr>\n",
              "      <th>Logistic Regression</th>\n",
              "      <td>0.840389</td>\n",
              "      <td>0.843249</td>\n",
              "      <td>0.830092</td>\n",
              "      <td>0.836670</td>\n",
              "      <td>0.843249</td>\n",
              "      <td>0.838730</td>\n",
              "    </tr>\n",
              "    <tr>\n",
              "      <th>AdaBoost</th>\n",
              "      <td>0.837529</td>\n",
              "      <td>0.836957</td>\n",
              "      <td>0.831522</td>\n",
              "      <td>0.833238</td>\n",
              "      <td>0.842963</td>\n",
              "      <td>0.836442</td>\n",
              "    </tr>\n",
              "    <tr>\n",
              "      <th>SVC</th>\n",
              "      <td>0.837243</td>\n",
              "      <td>0.837529</td>\n",
              "      <td>0.829805</td>\n",
              "      <td>0.834096</td>\n",
              "      <td>0.834382</td>\n",
              "      <td>0.834611</td>\n",
              "    </tr>\n",
              "    <tr>\n",
              "      <th>Gradient Boosting</th>\n",
              "      <td>0.836098</td>\n",
              "      <td>0.833524</td>\n",
              "      <td>0.832666</td>\n",
              "      <td>0.830950</td>\n",
              "      <td>0.835526</td>\n",
              "      <td>0.833753</td>\n",
              "    </tr>\n",
              "    <tr>\n",
              "      <th>XGBoost</th>\n",
              "      <td>0.828661</td>\n",
              "      <td>0.832380</td>\n",
              "      <td>0.826087</td>\n",
              "      <td>0.834668</td>\n",
              "      <td>0.840103</td>\n",
              "      <td>0.832380</td>\n",
              "    </tr>\n",
              "    <tr>\n",
              "      <th>Random Forest</th>\n",
              "      <td>0.826945</td>\n",
              "      <td>0.823513</td>\n",
              "      <td>0.816648</td>\n",
              "      <td>0.820080</td>\n",
              "      <td>0.834096</td>\n",
              "      <td>0.824256</td>\n",
              "    </tr>\n",
              "    <tr>\n",
              "      <th>Extra Trees</th>\n",
              "      <td>0.813787</td>\n",
              "      <td>0.815503</td>\n",
              "      <td>0.810927</td>\n",
              "      <td>0.816076</td>\n",
              "      <td>0.831236</td>\n",
              "      <td>0.817506</td>\n",
              "    </tr>\n",
              "    <tr>\n",
              "      <th>K Nearest Neighbour</th>\n",
              "      <td>0.807494</td>\n",
              "      <td>0.812929</td>\n",
              "      <td>0.802059</td>\n",
              "      <td>0.807494</td>\n",
              "      <td>0.816076</td>\n",
              "      <td>0.809211</td>\n",
              "    </tr>\n",
              "    <tr>\n",
              "      <th>Bagging Classifier</th>\n",
              "      <td>0.804920</td>\n",
              "      <td>0.809211</td>\n",
              "      <td>0.798627</td>\n",
              "      <td>0.810641</td>\n",
              "      <td>0.821796</td>\n",
              "      <td>0.809039</td>\n",
              "    </tr>\n",
              "    <tr>\n",
              "      <th>Gaussian Process</th>\n",
              "      <td>0.784897</td>\n",
              "      <td>0.774600</td>\n",
              "      <td>0.773741</td>\n",
              "      <td>0.778890</td>\n",
              "      <td>0.797483</td>\n",
              "      <td>0.781922</td>\n",
              "    </tr>\n",
              "    <tr>\n",
              "      <th>Gaussian Naive Bayes</th>\n",
              "      <td>0.340103</td>\n",
              "      <td>0.340675</td>\n",
              "      <td>0.347254</td>\n",
              "      <td>0.348970</td>\n",
              "      <td>0.422769</td>\n",
              "      <td>0.359954</td>\n",
              "    </tr>\n",
              "  </tbody>\n",
              "</table>\n",
              "</div>"
            ],
            "text/plain": [
              "                             0         1         2         3         4  \\\n",
              "Logistic Regression   0.840389  0.843249  0.830092  0.836670  0.843249   \n",
              "AdaBoost              0.837529  0.836957  0.831522  0.833238  0.842963   \n",
              "SVC                   0.837243  0.837529  0.829805  0.834096  0.834382   \n",
              "Gradient Boosting     0.836098  0.833524  0.832666  0.830950  0.835526   \n",
              "XGBoost               0.828661  0.832380  0.826087  0.834668  0.840103   \n",
              "Random Forest         0.826945  0.823513  0.816648  0.820080  0.834096   \n",
              "Extra Trees           0.813787  0.815503  0.810927  0.816076  0.831236   \n",
              "K Nearest Neighbour   0.807494  0.812929  0.802059  0.807494  0.816076   \n",
              "Bagging Classifier    0.804920  0.809211  0.798627  0.810641  0.821796   \n",
              "Gaussian Process      0.784897  0.774600  0.773741  0.778890  0.797483   \n",
              "Gaussian Naive Bayes  0.340103  0.340675  0.347254  0.348970  0.422769   \n",
              "\n",
              "                          mean  \n",
              "Logistic Regression   0.838730  \n",
              "AdaBoost              0.836442  \n",
              "SVC                   0.834611  \n",
              "Gradient Boosting     0.833753  \n",
              "XGBoost               0.832380  \n",
              "Random Forest         0.824256  \n",
              "Extra Trees           0.817506  \n",
              "K Nearest Neighbour   0.809211  \n",
              "Bagging Classifier    0.809039  \n",
              "Gaussian Process      0.781922  \n",
              "Gaussian Naive Bayes  0.359954  "
            ]
          },
          "execution_count": 63,
          "metadata": {},
          "output_type": "execute_result"
        }
      ],
      "source": [
        "# 결과 테이블을 만듭니다.\n",
        "results = pd.DataFrame(scores).T\n",
        "results['mean'] = results.mean(1)\n",
        "\n",
        "result_df = results.sort_values(by='mean', ascending=False)#.reset_index()\n",
        "result_df.head(11)"
      ]
    },
    {
      "cell_type": "code",
      "execution_count": null,
      "id": "zP6G3odrwNMk",
      "metadata": {
        "colab": {
          "base_uri": "https://localhost:8080/",
          "height": 310
        },
        "id": "zP6G3odrwNMk",
        "outputId": "6f3aa2b6-9fa9-414d-8211-521c4934f504"
      },
      "outputs": [
        {
          "data": {
            "image/png": "[encoded data removed]",
            "text/plain": [
              "<Figure size 432x288 with 1 Axes>"
            ]
          },
          "metadata": {
            "needs_background": "light"
          },
          "output_type": "display_data"
        }
      ],
      "source": [
        "result_df = result_df.drop(['mean'], axis=1)\n",
        "sns.boxplot(data=result_df.T, orient='h')\n",
        "plt.title('Machine Learning Algorithm Accuracy Score \\n')\n",
        "plt.xlabel('Accuracy Score (%)');"
      ]
    },
    {
      "cell_type": "code",
      "execution_count": null,
      "id": "dP54D3RjwNKC",
      "metadata": {
        "id": "dP54D3RjwNKC"
      },
      "outputs": [],
      "source": [
        "# 중요도를 보는 함수를 만듭니다.\n",
        "def importance_plotting(data, xlabel, ylabel, title, n=20):\n",
        "    sns.set(style=\"whitegrid\")\n",
        "    ax = data.tail(n).plot(kind='barh')\n",
        "    \n",
        "    ax.set(title=title, xlabel=xlabel, ylabel=ylabel)\n",
        "    ax.xaxis.grid(False)\n",
        "    ax.yaxis.grid(True)\n",
        "    plt.show()"
      ]
    },
    {
      "cell_type": "code",
      "execution_count": null,
      "id": "9CN_1vmwxYQX",
      "metadata": {
        "id": "9CN_1vmwxYQX"
      },
      "outputs": [],
      "source": [
        "# 데이터 프레임에 항목 중요도를 넣습니다.\n",
        "fi = {'Features':train.columns.tolist(), 'Importance':xgb.feature_importances_}\n",
        "importance = pd.DataFrame(fi, index=fi['Features']).sort_values('Importance', ascending=True)"
      ]
    },
    {
      "cell_type": "code",
      "execution_count": null,
      "id": "BiiebTO-xYPC",
      "metadata": {
        "colab": {
          "base_uri": "https://localhost:8080/",
          "height": 301
        },
        "id": "BiiebTO-xYPC",
        "outputId": "206d71e1-6682-426e-f95a-6d7fd0e8fd79"
      },
      "outputs": [
        {
          "data": {
            "image/png": "[encoded data removed]",
            "text/plain": [
              "<Figure size 432x288 with 1 Axes>"
            ]
          },
          "metadata": {},
          "output_type": "display_data"
        }
      ],
      "source": [
        "# 그래프 제목\n",
        "title = 'Top 20 most important features: XGB'\n",
        "\n",
        "# 그래프 그리기\n",
        "importance_plotting(importance, 'Importance', 'Features', title, 20)"
      ]
    },
    {
      "cell_type": "code",
      "execution_count": null,
      "id": "8jgNjTGpxYMW",
      "metadata": {
        "colab": {
          "base_uri": "https://localhost:8080/",
          "height": 301
        },
        "id": "8jgNjTGpxYMW",
        "outputId": "bb5f76f8-20a7-4a94-fc18-c4afd23a4c5c"
      },
      "outputs": [
        {
          "data": {
            "image/png": "[encoded data removed]",
            "text/plain": [
              "<Figure size 432x288 with 1 Axes>"
            ]
          },
          "metadata": {},
          "output_type": "display_data"
        }
      ],
      "source": [
        "# 중요도를 데이터프레임에 넣습니다. Logistic regression에서는 중요도보다 coefficients를 사용합니다. \n",
        "# 아래는 Features라는 열에 트레인의 열들의 이름을 리스트로 만들어서 넣고 Importance에는 Logistic regression에는 coefficient를 바꾸어 넣어라는 넘파이 명령입니다.(즉 가로를 세로로)\n",
        "fi = {'Features':train.columns.tolist(), 'Importance':np.transpose(log.coef_[0])}\n",
        "importance = pd.DataFrame(fi, index=fi['Features']).sort_values('Importance', ascending=True)\n",
        "# 그래프 타이틀\n",
        "title = 'Top 20 important features : Logistic Regression'\n",
        "\n",
        "# 그래프 그리기\n",
        "importance_plotting(importance, 'Importance', 'Features', title, 20)"
      ]
    },
    {
      "cell_type": "code",
      "execution_count": null,
      "id": "_iUMPvmwxYJo",
      "metadata": {
        "id": "_iUMPvmwxYJo"
      },
      "outputs": [],
      "source": [
        "# 5가지 모델에 대한 항목 중요도 얻기\n",
        "gbc_imp = pd.DataFrame({'Feature':train.columns, 'gbc importance':gbc.feature_importances_})\n",
        "xgb_imp = pd.DataFrame({'Feature':train.columns, 'xgb importance':xgb.feature_importances_})\n",
        "ran_imp = pd.DataFrame({'Feature':train.columns, 'ran importance':ran.feature_importances_})\n",
        "ext_imp = pd.DataFrame({'Feature':train.columns, 'ext importance':ext.feature_importances_})\n",
        "ada_imp = pd.DataFrame({'Feature':train.columns, 'ada importance':ada.feature_importances_})\n",
        "\n",
        "# 이를 하나의 데이터프레임으로\n",
        "importances = gbc_imp.merge(xgb_imp, on='Feature').merge(ran_imp, on='Feature').merge(ext_imp, on='Feature').merge(ada_imp, on='Feature')\n",
        "\n",
        "# 항목당 평균 중요도\n",
        "importances['Average'] = importances.mean(axis=1)\n",
        "\n",
        "# 랭킹 정하기\n",
        "importances = importances.sort_values(by='Average', ascending=False).reset_index(drop=True)"
      ]
    },
    {
      "cell_type": "code",
      "execution_count": null,
      "id": "YjzRfAt8xYHI",
      "metadata": {
        "id": "YjzRfAt8xYHI"
      },
      "outputs": [],
      "source": [
        ""
      ]
    },
    {
      "cell_type": "code",
      "execution_count": null,
      "id": "cd0d7f25",
      "metadata": {
        "id": "cd0d7f25",
        "outputId": "a03696b2-d0c7-481a-b18e-710c8feb63ec"
      },
      "outputs": [
        {
          "name": "stdout",
          "output_type": "stream",
          "text": [
            "Fitting 5 folds for each of 24 candidates, totalling 120 fits\n",
            "0.8348398169336384\n",
            "{'C': 10, 'gamma': 0.001}\n"
          ]
        }
      ],
      "source": [
        "# 파라미터 서치\n",
        "Cs = [0.01, 0.1, 1, 5, 10, 15, 20, 50]\n",
        "gammas = [0.001, 0.01, 0.1]\n",
        "\n",
        "# 파라미터 그리드 셋팅\n",
        "hyperparams = {'C': Cs, 'gamma' : gammas}\n",
        "\n",
        "# 교차검증\n",
        "gd=GridSearchCV(estimator = SVC(probability=True), param_grid = hyperparams, \n",
        "                verbose=True, cv=5, scoring = \"accuracy\", n_jobs=-1)\n",
        "\n",
        "# 모델 fiting 및 결과\n",
        "gd.fit(X_train, y_train)\n",
        "print(gd.best_score_)\n",
        "print(gd.best_params_)"
      ]
    },
    {
      "cell_type": "code",
      "execution_count": null,
      "id": "c867474f",
      "metadata": {
        "id": "c867474f",
        "outputId": "87f93975-ed15-4063-b2d0-32859cb8a0b2"
      },
      "outputs": [
        {
          "name": "stdout",
          "output_type": "stream",
          "text": [
            "Fitting 5 folds for each of 15 candidates, totalling 75 fits\n",
            "0.8391304347826087\n",
            "{'learning_rate': 0.05, 'n_estimators': 1000}\n"
          ]
        }
      ],
      "source": [
        "learning_rate = [0.01, 0.05, 0.1, 0.2, 0.5]\n",
        "n_estimators = [100, 1000, 2000]\n",
        "max_depth = [3, 5, 10, 15]\n",
        "\n",
        "hyperparams = {'learning_rate': learning_rate, 'n_estimators': n_estimators}\n",
        "\n",
        "gd=GridSearchCV(estimator = GradientBoostingClassifier(), param_grid = hyperparams, \n",
        "                verbose=True, cv=5, scoring = \"accuracy\", n_jobs=-1)\n",
        "\n",
        "gd.fit(X_train, y_train)\n",
        "print(gd.best_score_)\n",
        "print(gd.best_params_)"
      ]
    },
    {
      "cell_type": "code",
      "execution_count": null,
      "id": "IyVTBK2qxYFE",
      "metadata": {
        "id": "IyVTBK2qxYFE",
        "outputId": "6d3b3c2f-d0b8-4f54-cbdf-2249263ba619"
      },
      "outputs": [
        {
          "name": "stdout",
          "output_type": "stream",
          "text": [
            "Fitting 5 folds for each of 20 candidates, totalling 100 fits\n",
            "0.8387299771167047\n",
            "{'C': 1.0, 'penalty': 'l2'}\n"
          ]
        }
      ],
      "source": [
        "penalty = ['l1', 'l2']\n",
        "C = np.logspace(0, 4, 10)\n",
        "\n",
        "hyperparams = {'penalty': penalty, 'C': C}\n",
        "\n",
        "gd=GridSearchCV(estimator = LogisticRegression(), param_grid = hyperparams, \n",
        "                verbose=True, cv=5, scoring = \"accuracy\", n_jobs=-1)\n",
        "\n",
        "gd.fit(X_train, y_train)\n",
        "print(gd.best_score_)\n",
        "print(gd.best_params_)"
      ]
    },
    {
      "cell_type": "code",
      "execution_count": null,
      "id": "cea528fb",
      "metadata": {
        "id": "cea528fb",
        "outputId": "e48f8ea0-68b6-4637-c142-b902061c78a5"
      },
      "outputs": [
        {
          "name": "stdout",
          "output_type": "stream",
          "text": [
            "Fitting 5 folds for each of 36 candidates, totalling 180 fits\n",
            "0.8379290617848969\n",
            "{'learning_rate': 0.1, 'n_estimators': 100}\n"
          ]
        }
      ],
      "source": [
        "learning_rate = [0.001, 0.005, 0.01, 0.05, 0.1, 0.2]\n",
        "n_estimators = [10, 50, 100, 250, 500, 1000]\n",
        "\n",
        "hyperparams = {'learning_rate': learning_rate, 'n_estimators': n_estimators}\n",
        "\n",
        "gd=GridSearchCV(estimator = XGBClassifier(), param_grid = hyperparams, \n",
        "                verbose=True, cv=5, scoring = \"accuracy\", n_jobs=-1)\n",
        "\n",
        "gd.fit(X_train, y_train)\n",
        "print(gd.best_score_)\n",
        "print(gd.best_params_)"
      ]
    },
    {
      "cell_type": "code",
      "execution_count": null,
      "id": "d79505b3",
      "metadata": {
        "id": "d79505b3",
        "outputId": "bd6e270d-e6d7-46d6-c549-2ddadc8d433e"
      },
      "outputs": [
        {
          "name": "stdout",
          "output_type": "stream",
          "text": [
            "Fitting 5 folds for each of 48 candidates, totalling 240 fits\n",
            "0.8334668192219681\n",
            "{'max_depth': 9, 'min_child_weight': 6}\n"
          ]
        }
      ],
      "source": [
        "max_depth = [3, 4, 5, 6, 7, 8, 9, 10]\n",
        "min_child_weight = [1, 2, 3, 4, 5, 6]\n",
        "\n",
        "hyperparams = {'max_depth': max_depth, 'min_child_weight': min_child_weight}\n",
        "\n",
        "gd=GridSearchCV(estimator = XGBClassifier(learning_rate=0.2, n_estimators=10), param_grid = hyperparams, \n",
        "                verbose=True, cv=5, scoring = \"accuracy\", n_jobs=-1)\n",
        "\n",
        "gd.fit(X_train, y_train)\n",
        "print(gd.best_score_)\n",
        "print(gd.best_params_)"
      ]
    },
    {
      "cell_type": "code",
      "execution_count": null,
      "id": "8c7fc8c0",
      "metadata": {
        "id": "8c7fc8c0",
        "outputId": "ff8a6824-6081-4cb1-f944-a640fc640620"
      },
      "outputs": [
        {
          "name": "stdout",
          "output_type": "stream",
          "text": [
            "Fitting 5 folds for each of 5 candidates, totalling 25 fits\n",
            "0.8295766590389017\n",
            "{'gamma': 0.4}\n"
          ]
        }
      ],
      "source": [
        "gamma = [i*0.1 for i in range(0,5)]\n",
        "\n",
        "hyperparams = {'gamma': gamma}\n",
        "\n",
        "gd=GridSearchCV(estimator = XGBClassifier(learning_rate=0.2, n_estimators=10, max_depth=6, \n",
        "                                          min_child_weight=1), param_grid = hyperparams, \n",
        "                verbose=True, cv=5, scoring = \"accuracy\", n_jobs=-1)\n",
        "\n",
        "gd.fit(X_train, y_train)\n",
        "print(gd.best_score_)\n",
        "print(gd.best_params_)"
      ]
    },
    {
      "cell_type": "code",
      "execution_count": null,
      "id": "dc2ad71f",
      "metadata": {
        "id": "dc2ad71f",
        "outputId": "e55fc587-b265-4fa9-8d88-a8a9c6c12048"
      },
      "outputs": [
        {
          "name": "stdout",
          "output_type": "stream",
          "text": [
            "Fitting 5 folds for each of 81 candidates, totalling 405 fits\n",
            "0.8314645308924484\n",
            "{'colsample_bytree': 0.75, 'subsample': 1}\n"
          ]
        }
      ],
      "source": [
        "subsample = [0.6, 0.65, 0.7, 0.75, 0.8, 0.85, 0.9, 0.95, 1]\n",
        "colsample_bytree = [0.6, 0.65, 0.7, 0.75, 0.8, 0.85, 0.9, 0.95, 1]\n",
        "    \n",
        "hyperparams = {'subsample': subsample, 'colsample_bytree': colsample_bytree}\n",
        "\n",
        "gd=GridSearchCV(estimator = XGBClassifier(learning_rate=0.2, n_estimators=10, max_depth=6, \n",
        "                                          min_child_weight=1, gamma=0), param_grid = hyperparams, \n",
        "                verbose=True, cv=5, scoring = \"accuracy\", n_jobs=-1)\n",
        "\n",
        "gd.fit(X_train, y_train)\n",
        "print(gd.best_score_)\n",
        "print(gd.best_params_)"
      ]
    },
    {
      "cell_type": "code",
      "execution_count": null,
      "id": "cc933d38",
      "metadata": {
        "id": "cc933d38",
        "outputId": "e5fd0d4c-a95d-4652-9526-2762780d9a6d"
      },
      "outputs": [
        {
          "name": "stdout",
          "output_type": "stream",
          "text": [
            "Fitting 5 folds for each of 5 candidates, totalling 25 fits\n",
            "0.8307780320366133\n",
            "{'reg_alpha': 1}\n"
          ]
        }
      ],
      "source": [
        "reg_alpha = [1e-5, 1e-2, 0.1, 1, 100]\n",
        "    \n",
        "hyperparams = {'reg_alpha': reg_alpha}\n",
        "\n",
        "gd=GridSearchCV(estimator = XGBClassifier(learning_rate=0.2, n_estimators=10, max_depth=6, \n",
        "                                          min_child_weight=1, gamma=0, subsample=1, colsample_bytree=1),\n",
        "                                         param_grid = hyperparams, verbose=True, cv=5, scoring = \"accuracy\", n_jobs=-1)\n",
        "\n",
        "gd.fit(X_train, y_train)\n",
        "print(gd.best_score_)\n",
        "print(gd.best_params_)"
      ]
    },
    {
      "cell_type": "code",
      "execution_count": null,
      "id": "570cc3c1",
      "metadata": {
        "id": "570cc3c1",
        "outputId": "a4902b09-9c20-4927-8b00-7074fc9ed470"
      },
      "outputs": [
        {
          "name": "stdout",
          "output_type": "stream",
          "text": [
            "Fitting 5 folds for each of 128 candidates, totalling 640 fits\n",
            "0.8371281464530892\n",
            "{'max_depth': None, 'max_features': 0.1, 'min_samples_leaf': 2, 'min_samples_split': 2, 'n_estimators': 100}\n"
          ]
        }
      ],
      "source": [
        "n_estimators = [10, 50, 100, 200]\n",
        "max_depth = [3, None]\n",
        "max_features = [0.1, 0.2, 0.5, 0.8]\n",
        "min_samples_split = [2, 6]\n",
        "min_samples_leaf = [2, 6]\n",
        "\n",
        "hyperparams = {'n_estimators': n_estimators, 'max_depth': max_depth, 'max_features': max_features,\n",
        "               'min_samples_split': min_samples_split, 'min_samples_leaf': min_samples_leaf}\n",
        "\n",
        "gd=GridSearchCV(estimator = RandomForestClassifier(), param_grid = hyperparams, \n",
        "                verbose=True, cv=5, scoring = \"accuracy\", n_jobs=-1)\n",
        "\n",
        "gd.fit(X_train, y_train)\n",
        "print(gd.best_score_)\n",
        "print(gd.best_params_)"
      ]
    },
    {
      "cell_type": "code",
      "execution_count": null,
      "id": "d4197033",
      "metadata": {
        "id": "d4197033",
        "outputId": "b4aaca80-d3ea-4d86-913c-e82784f60d66"
      },
      "outputs": [
        {
          "name": "stdout",
          "output_type": "stream",
          "text": [
            "Fitting 5 folds for each of 160 candidates, totalling 800 fits\n",
            "0.8352402745995423\n",
            "{'max_depth': None, 'max_features': 0.1, 'min_samples_leaf': 2, 'min_samples_split': 10, 'n_estimators': 75}\n"
          ]
        }
      ],
      "source": [
        "n_estimators = [10, 25, 50, 75, 100]\n",
        "max_depth = [3, None]\n",
        "max_features = [0.1, 0.2, 0.5, 0.8]\n",
        "min_samples_split = [2, 10]\n",
        "min_samples_leaf = [2, 10]\n",
        "\n",
        "hyperparams = {'n_estimators': n_estimators, 'max_depth': max_depth, 'max_features': max_features,\n",
        "               'min_samples_split': min_samples_split, 'min_samples_leaf': min_samples_leaf}\n",
        "\n",
        "gd=GridSearchCV(estimator = ExtraTreesClassifier(), param_grid = hyperparams, \n",
        "                verbose=True, cv=5, scoring = \"accuracy\", n_jobs=-1)\n",
        "\n",
        "gd.fit(X_train, y_train)\n",
        "print(gd.best_score_)\n",
        "print(gd.best_params_)"
      ]
    },
    {
      "cell_type": "code",
      "execution_count": null,
      "id": "f14838e9",
      "metadata": {
        "id": "f14838e9",
        "outputId": "c61d561c-9ff4-4230-a07e-aab8c136c61f"
      },
      "outputs": [
        {
          "name": "stdout",
          "output_type": "stream",
          "text": [
            "Fitting 5 folds for each of 60 candidates, totalling 300 fits\n",
            "0.8092105263157896\n",
            "{'algorithm': 'auto', 'leaf_size': 1, 'n_neighbors': 5, 'weights': 'uniform'}\n"
          ]
        }
      ],
      "source": [
        "n_neighbors = [1, 2, 3, 4, 5]\n",
        "algorithm = ['auto']\n",
        "weights = ['uniform', 'distance']\n",
        "leaf_size = [1, 2, 3, 4, 5, 10]\n",
        "\n",
        "hyperparams = {'algorithm': algorithm, 'weights': weights, 'leaf_size': leaf_size, \n",
        "               'n_neighbors': n_neighbors}\n",
        "\n",
        "gd=GridSearchCV(estimator = KNeighborsClassifier(), param_grid = hyperparams, \n",
        "                verbose=True, cv=5, scoring = \"accuracy\", n_jobs=-1)\n",
        "\n",
        "# Fitting model and return results\n",
        "gd.fit(X_train, y_train)\n",
        "print(gd.best_score_)\n",
        "print(gd.best_params_)"
      ]
    },
    {
      "cell_type": "code",
      "execution_count": null,
      "id": "95f1bb4f",
      "metadata": {
        "id": "95f1bb4f",
        "outputId": "5959eaec-7a3b-4d99-ecc8-fd4e53f3a1e2"
      },
      "outputs": [
        {
          "name": "stdout",
          "output_type": "stream",
          "text": [
            "Fitting 5 folds for each of 125 candidates, totalling 625 fits\n",
            "0.8362128146453088\n",
            "{'max_features': 0.8, 'max_samples': 0.1, 'n_estimators': 200}\n"
          ]
        }
      ],
      "source": [
        "n_estimators = [10, 50, 75, 100, 200]\n",
        "max_samples = [0.1, 0.2, 0.5, 0.8, 1.0]\n",
        "max_features = [0.1, 0.2, 0.5, 0.8, 1.0]\n",
        "\n",
        "hyperparams = {'n_estimators': n_estimators, 'max_samples': max_samples, 'max_features': max_features}\n",
        "\n",
        "gd=GridSearchCV(estimator = BaggingClassifier(), param_grid = hyperparams, \n",
        "                verbose=True, cv=5, scoring = \"accuracy\", n_jobs=-1)\n",
        "\n",
        "gd.fit(X_train, y_train)\n",
        "print(gd.best_score_)\n",
        "print(gd.best_params_)"
      ]
    },
    {
      "cell_type": "code",
      "execution_count": null,
      "id": "726bf75e",
      "metadata": {
        "id": "726bf75e"
      },
      "outputs": [],
      "source": [
        "ran = RandomForestClassifier(max_depth= None, max_features= 0.1, min_samples_leaf= 2, min_samples_split= 2, n_estimators= 100, random_state=1)\n",
        "\n",
        "knn = KNeighborsClassifier(leaf_size=1, n_neighbors=5, weights='uniform')\n",
        "\n",
        "log = LogisticRegression(C=1.0, penalty='l2')\n",
        "\n",
        "xgb = XGBClassifier(learning_rate=0.1, n_estimators=100, max_depth=9, \n",
        "                                          min_child_weight=6, gamma=0.4, subsample=1, colsample_bytree=0.75, reg_alpha=1)\n",
        "\n",
        "gbc = GradientBoostingClassifier(learning_rate=0.05, max_depth=3, n_estimators=1000)\n",
        "\n",
        "svc = SVC(probability=True, gamma=0.001, C=10)\n",
        "\n",
        "ext = ExtraTreesClassifier(max_depth=None, max_features=0.1, min_samples_leaf=2, min_samples_split=10, n_estimators=75, random_state=1)\n",
        "\n",
        "ada = AdaBoostClassifier(learning_rate=0.5, n_estimators=500, random_state=1)\n",
        "\n",
        "gpc = GaussianProcessClassifier(max_iter_predict=1, n_restarts_optimizer=0, warm_start=True)\n",
        "\n",
        "bag = BaggingClassifier(max_features=0.8, max_samples=0.1, n_estimators=200, random_state=1)"
      ]
    },
    {
      "cell_type": "code",
      "execution_count": null,
      "id": "300eddd8",
      "metadata": {
        "id": "300eddd8"
      },
      "outputs": [],
      "source": [
        "scores3={}\n",
        "knn.fit(X_train, y_train)\n",
        "acc = cross_val_score(knn, X_train, y_train, scoring = 'accuracy', cv=10)\n",
        "scores3['K Nearest Neighbour'] = acc"
      ]
    },
    {
      "cell_type": "code",
      "execution_count": null,
      "id": "da9e1a2b",
      "metadata": {
        "id": "da9e1a2b",
        "outputId": "0f4b8665-237b-497e-f630-d243d41c9dbf"
      },
      "outputs": [
        {
          "data": {
            "image/png": "[encoded data removed]",
            "text/plain": [
              "<Figure size 432x288 with 1 Axes>"
            ]
          },
          "metadata": {},
          "output_type": "display_data"
        }
      ],
      "source": [
        "results = pd.DataFrame(scores3).T\n",
        "results['mean'] = results.mean(1)\n",
        "result_df = results.sort_values(by='mean', ascending=False)\n",
        "result_df.head(11)\n",
        "\n",
        "result_df = result_df.drop(['mean'], axis=1)\n",
        "sns.boxplot(data=result_df.T, orient='h')\n",
        "plt.title('Machine Learning Algorithm Accuracy Score \\n')\n",
        "plt.xlabel('Accuracy Score (%)');"
      ]
    },
    {
      "cell_type": "code",
      "execution_count": null,
      "id": "f6d5b3fe",
      "metadata": {
        "id": "f6d5b3fe"
      },
      "outputs": [],
      "source": [
        "scores4 = {}\n",
        "\n",
        "# 이어서 연속적으로 모델을 학습 시키고 교차 검증합니다.\n",
        "for ind, mod in enumerate(models):\n",
        "    mod.fit(X_train, y_train)\n",
        "    acc = cross_val_score(mod, X_train, y_train, scoring = \"accuracy\", cv = 5)\n",
        "    scores4[model_names[ind]] = acc"
      ]
    },
    {
      "cell_type": "code",
      "execution_count": null,
      "id": "d2f1360b",
      "metadata": {
        "id": "d2f1360b",
        "outputId": "0e3f5d4d-3e22-4a4c-cb6e-9d757869d2e9"
      },
      "outputs": [
        {
          "data": {
            "text/html": [
              "<div>\n",
              "<style scoped>\n",
              "    .dataframe tbody tr th:only-of-type {\n",
              "        vertical-align: middle;\n",
              "    }\n",
              "\n",
              "    .dataframe tbody tr th {\n",
              "        vertical-align: top;\n",
              "    }\n",
              "\n",
              "    .dataframe thead th {\n",
              "        text-align: right;\n",
              "    }\n",
              "</style>\n",
              "<table border=\"1\" class=\"dataframe\">\n",
              "  <thead>\n",
              "    <tr style=\"text-align: right;\">\n",
              "      <th></th>\n",
              "      <th>0</th>\n",
              "      <th>1</th>\n",
              "      <th>2</th>\n",
              "      <th>3</th>\n",
              "      <th>4</th>\n",
              "      <th>mean</th>\n",
              "    </tr>\n",
              "  </thead>\n",
              "  <tbody>\n",
              "    <tr>\n",
              "      <th>Logistic Regression</th>\n",
              "      <td>0.840389</td>\n",
              "      <td>0.843249</td>\n",
              "      <td>0.830092</td>\n",
              "      <td>0.836670</td>\n",
              "      <td>0.843249</td>\n",
              "      <td>0.838730</td>\n",
              "    </tr>\n",
              "    <tr>\n",
              "      <th>AdaBoost</th>\n",
              "      <td>0.837529</td>\n",
              "      <td>0.836957</td>\n",
              "      <td>0.831522</td>\n",
              "      <td>0.833238</td>\n",
              "      <td>0.842963</td>\n",
              "      <td>0.836442</td>\n",
              "    </tr>\n",
              "    <tr>\n",
              "      <th>SVC</th>\n",
              "      <td>0.837243</td>\n",
              "      <td>0.837529</td>\n",
              "      <td>0.829805</td>\n",
              "      <td>0.834096</td>\n",
              "      <td>0.834382</td>\n",
              "      <td>0.834611</td>\n",
              "    </tr>\n",
              "    <tr>\n",
              "      <th>Gradient Boosting</th>\n",
              "      <td>0.836098</td>\n",
              "      <td>0.833524</td>\n",
              "      <td>0.832666</td>\n",
              "      <td>0.830950</td>\n",
              "      <td>0.835526</td>\n",
              "      <td>0.833753</td>\n",
              "    </tr>\n",
              "    <tr>\n",
              "      <th>XGBoost</th>\n",
              "      <td>0.828661</td>\n",
              "      <td>0.832380</td>\n",
              "      <td>0.826087</td>\n",
              "      <td>0.834668</td>\n",
              "      <td>0.840103</td>\n",
              "      <td>0.832380</td>\n",
              "    </tr>\n",
              "    <tr>\n",
              "      <th>Random Forest</th>\n",
              "      <td>0.826945</td>\n",
              "      <td>0.823513</td>\n",
              "      <td>0.816648</td>\n",
              "      <td>0.820080</td>\n",
              "      <td>0.834096</td>\n",
              "      <td>0.824256</td>\n",
              "    </tr>\n",
              "    <tr>\n",
              "      <th>Extra Trees</th>\n",
              "      <td>0.812929</td>\n",
              "      <td>0.817506</td>\n",
              "      <td>0.810069</td>\n",
              "      <td>0.817220</td>\n",
              "      <td>0.828947</td>\n",
              "      <td>0.817334</td>\n",
              "    </tr>\n",
              "    <tr>\n",
              "      <th>Bagging Classifier</th>\n",
              "      <td>0.804062</td>\n",
              "      <td>0.813215</td>\n",
              "      <td>0.807780</td>\n",
              "      <td>0.809211</td>\n",
              "      <td>0.826945</td>\n",
              "      <td>0.812243</td>\n",
              "    </tr>\n",
              "    <tr>\n",
              "      <th>K Nearest Neighbour</th>\n",
              "      <td>0.807494</td>\n",
              "      <td>0.812929</td>\n",
              "      <td>0.802059</td>\n",
              "      <td>0.807494</td>\n",
              "      <td>0.816076</td>\n",
              "      <td>0.809211</td>\n",
              "    </tr>\n",
              "    <tr>\n",
              "      <th>Gaussian Process</th>\n",
              "      <td>0.784897</td>\n",
              "      <td>0.774600</td>\n",
              "      <td>0.773741</td>\n",
              "      <td>0.778890</td>\n",
              "      <td>0.797483</td>\n",
              "      <td>0.781922</td>\n",
              "    </tr>\n",
              "    <tr>\n",
              "      <th>Gaussian Naive Bayes</th>\n",
              "      <td>0.340103</td>\n",
              "      <td>0.340675</td>\n",
              "      <td>0.347254</td>\n",
              "      <td>0.348970</td>\n",
              "      <td>0.422769</td>\n",
              "      <td>0.359954</td>\n",
              "    </tr>\n",
              "  </tbody>\n",
              "</table>\n",
              "</div>"
            ],
            "text/plain": [
              "                             0         1         2         3         4  \\\n",
              "Logistic Regression   0.840389  0.843249  0.830092  0.836670  0.843249   \n",
              "AdaBoost              0.837529  0.836957  0.831522  0.833238  0.842963   \n",
              "SVC                   0.837243  0.837529  0.829805  0.834096  0.834382   \n",
              "Gradient Boosting     0.836098  0.833524  0.832666  0.830950  0.835526   \n",
              "XGBoost               0.828661  0.832380  0.826087  0.834668  0.840103   \n",
              "Random Forest         0.826945  0.823513  0.816648  0.820080  0.834096   \n",
              "Extra Trees           0.812929  0.817506  0.810069  0.817220  0.828947   \n",
              "Bagging Classifier    0.804062  0.813215  0.807780  0.809211  0.826945   \n",
              "K Nearest Neighbour   0.807494  0.812929  0.802059  0.807494  0.816076   \n",
              "Gaussian Process      0.784897  0.774600  0.773741  0.778890  0.797483   \n",
              "Gaussian Naive Bayes  0.340103  0.340675  0.347254  0.348970  0.422769   \n",
              "\n",
              "                          mean  \n",
              "Logistic Regression   0.838730  \n",
              "AdaBoost              0.836442  \n",
              "SVC                   0.834611  \n",
              "Gradient Boosting     0.833753  \n",
              "XGBoost               0.832380  \n",
              "Random Forest         0.824256  \n",
              "Extra Trees           0.817334  \n",
              "Bagging Classifier    0.812243  \n",
              "K Nearest Neighbour   0.809211  \n",
              "Gaussian Process      0.781922  \n",
              "Gaussian Naive Bayes  0.359954  "
            ]
          },
          "execution_count": 100,
          "metadata": {},
          "output_type": "execute_result"
        }
      ],
      "source": [
        "# 결과 테이블을 만듭니다.\n",
        "results = pd.DataFrame(scores4).T\n",
        "results['mean'] = results.mean(1)\n",
        "\n",
        "result_df = results.sort_values(by='mean', ascending=False)#.reset_index()\n",
        "result_df.head(11)"
      ]
    },
    {
      "cell_type": "code",
      "execution_count": null,
      "id": "6a7ca750",
      "metadata": {
        "id": "6a7ca750",
        "outputId": "3d3e0875-b34e-4e70-a8cb-e6da69ec9899"
      },
      "outputs": [
        {
          "data": {
            "image/png": "[encoded data removed]",
            "text/plain": [
              "<Figure size 432x288 with 1 Axes>"
            ]
          },
          "metadata": {},
          "output_type": "display_data"
        }
      ],
      "source": [
        "# 결과 테이블을 만듭니다.\n",
        "results = pd.DataFrame(scores4).T\n",
        "results['mean'] = results.mean(1)\n",
        "\n",
        "result_df = results.sort_values(by='mean', ascending=False)#.reset_index()\n",
        "result_df.head(11)\n",
        "result_df = result_df.drop(['mean'], axis=1)\n",
        "sns.boxplot(data=result_df.T, orient='h')\n",
        "plt.title('Machine Learning Algorithm Accuracy Score \\n')\n",
        "plt.xlabel('Accuracy Score (%)');"
      ]
    },
    {
      "cell_type": "code",
      "execution_count": null,
      "id": "7883ea46",
      "metadata": {
        "id": "7883ea46",
        "outputId": "1bc8c00e-865c-4325-82a2-d4869e417187"
      },
      "outputs": [
        {
          "name": "stdout",
          "output_type": "stream",
          "text": [
            "Hard voting on test set score mean: 83.67\n"
          ]
        }
      ],
      "source": [
        "#튜닝한 파라미터로 하드보팅\n",
        "grid_hard = VotingClassifier(estimators = [('Random Forest', ran), \n",
        "                                           ('Logistic Regression', log),\n",
        "                                           ('XGBoost', xgb),\n",
        "                                           ('Gradient Boosting', gbc),\n",
        "                                           ('Extra Trees', ext),\n",
        "                                           ('AdaBoost', ada),\n",
        "                                           ('Gaussian Process', gpc),\n",
        "                                           ('SVC', svc),\n",
        "                                           ('K Nearest Neighbour', knn),\n",
        "                                           ('Bagging Classifier', bag)], voting = 'hard')\n",
        "\n",
        "grid_hard_cv = model_selection.cross_validate(grid_hard, X_train, y_train, cv=10)\n",
        "grid_hard.fit(X_train, y_train)\n",
        "\n",
        "print(\"Hard voting on test set score mean: {:.2f}\". format(grid_hard_cv['test_score'].mean() * 100))"
      ]
    },
    {
      "cell_type": "code",
      "execution_count": null,
      "id": "96b95d9a",
      "metadata": {
        "id": "96b95d9a",
        "outputId": "4c8750d7-cf70-4d8c-98b7-80f1d1bdce61"
      },
      "outputs": [
        {
          "name": "stdout",
          "output_type": "stream",
          "text": [
            "Soft voting on test set score mean: 83.60\n"
          ]
        }
      ],
      "source": [
        "grid_soft = VotingClassifier(estimators = [('Random Forest', ran), \n",
        "                                           ('Logistic Regression', log),\n",
        "                                           ('XGBoost', xgb),\n",
        "                                           ('Gradient Boosting', gbc),\n",
        "                                           ('Extra Trees', ext),\n",
        "                                           ('AdaBoost', ada),\n",
        "                                           ('Gaussian Process', gpc),\n",
        "                                           ('SVC', svc),\n",
        "                                           ('K Nearest Neighbour', knn),\n",
        "                                           ('Bagging Classifier', bag)], voting = 'soft')\n",
        "\n",
        "grid_soft_cv = model_selection.cross_validate(grid_soft, X_train, y_train, cv=10)\n",
        "grid_soft.fit(X_train, y_train)\n",
        "\n",
        "print(\"Soft voting on test set score mean: {:.2f}\". format(grid_soft_cv['test_score'].mean() * 100))"
      ]
    },
    {
      "cell_type": "code",
      "execution_count": null,
      "id": "2bcb87cc",
      "metadata": {
        "id": "2bcb87cc"
      },
      "outputs": [],
      "source": [
        "test.head()\n",
        "test1 = pd.read_csv(dir + 'test.csv')"
      ]
    },
    {
      "cell_type": "code",
      "execution_count": null,
      "id": "e1b3b402",
      "metadata": {
        "id": "e1b3b402"
      },
      "outputs": [],
      "source": [
        "\n",
        "# Final predictions2\n",
        "predictions = grid_hard.predict(X_test)\n",
        "\n",
        "submission = pd.concat([pd.DataFrame(test1['id']), pd.DataFrame(predictions)], axis = 'columns')\n",
        "\n",
        "submission.columns = [\"id\", \"target\"]\n",
        "submission.to_csv('data/submission1.csv', header = True, index = False)"
      ]
    },
    {
      "cell_type": "code",
      "execution_count": null,
      "id": "fe96b5cf",
      "metadata": {
        "id": "fe96b5cf"
      },
      "outputs": [],
      "source": [
        "# Final predictions\n",
        "predictions = grid_soft.predict(X_test)\n",
        "\n",
        "submission = pd.concat([pd.DataFrame(test1['id']), pd.DataFrame(predictions)], axis = 'columns')\n",
        "\n",
        "submission.columns = [\"id\", \"target\"]\n",
        "submission.to_csv('data/submission2.csv', header = True, index = False)"
      ]
    },
    {
      "cell_type": "code",
      "execution_count": null,
      "id": "fa8dc006-8251-472d-96aa-d06cc8d2ad26",
      "metadata": {
        "id": "fa8dc006-8251-472d-96aa-d06cc8d2ad26"
      },
      "outputs": [],
      "source": [
        "from sklearn.linear_model import LogisticRegression\n",
        "\n",
        "# 모델 선언\n",
        "model = LogisticRegression(solver='liblinear')\n",
        "\n",
        "# 모델 학습\n",
        "model.fit(X, y)"
      ]
    },
    {
      "cell_type": "markdown",
      "id": "b00c546f-1839-4977-b1bb-797229fa0bb5",
      "metadata": {
        "id": "b00c546f-1839-4977-b1bb-797229fa0bb5"
      },
      "source": [
        "## 하이퍼 파라미터 튜닝\n"
      ]
    },
    {
      "cell_type": "code",
      "execution_count": null,
      "id": "f0c9a01f-f202-456e-9cf5-5eb01334e249",
      "metadata": {
        "id": "f0c9a01f-f202-456e-9cf5-5eb01334e249"
      },
      "outputs": [],
      "source": [
        "# 먼저 점수를 메기는 방법인 평가 지표(Metric)를 정의합니다.\n",
        "import numpy as np\n",
        "\n",
        "def ACCURACY(true, pred):   \n",
        "    score = np.mean(true==pred)\n",
        "    return score"
      ]
    },
    {
      "cell_type": "code",
      "execution_count": null,
      "id": "30c07730-982d-4bbf-970c-a0c2e07a98a6",
      "metadata": {
        "id": "30c07730-982d-4bbf-970c-a0c2e07a98a6"
      },
      "outputs": [],
      "source": [
        "# 모델의 예측과 실제 정답값을 비교합니다.\n",
        "prediction = model.predict(X)\n",
        "\n",
        "score = ACCURACY(y, prediction)\n",
        "\n",
        "print(f\"모델의 정확도는 {score*100:.2f}% 입니다\")"
      ]
    },
    {
      "cell_type": "markdown",
      "id": "d3ef3d6e-9be9-4823-98a6-82b25dd64a43",
      "metadata": {
        "id": "d3ef3d6e-9be9-4823-98a6-82b25dd64a43"
      },
      "source": [
        "## 추론 (Inference)"
      ]
    },
    {
      "cell_type": "code",
      "execution_count": null,
      "id": "fea5a2c8-5921-4b61-b5d4-98842536c07d",
      "metadata": {
        "id": "fea5a2c8-5921-4b61-b5d4-98842536c07d"
      },
      "outputs": [],
      "source": [
        "# csv형식으로 된 데이터 파일을 읽어옵니다.\n",
        "test.head()"
      ]
    },
    {
      "cell_type": "markdown",
      "id": "65d29a40-7b47-4a21-b92d-110d3edf1fc3",
      "metadata": {
        "id": "65d29a40-7b47-4a21-b92d-110d3edf1fc3"
      },
      "source": [
        "마찬가지로 테스트 셋에서도 똑같이 전처리를 해줍니다."
      ]
    },
    {
      "cell_type": "code",
      "execution_count": null,
      "id": "aa8f4f54-c566-454a-88ef-aac93b5dbaba",
      "metadata": {
        "id": "aa8f4f54-c566-454a-88ef-aac93b5dbaba"
      },
      "outputs": [],
      "source": [
        "test = label_encoder(test, make_label_map(test))\n",
        "test = test.drop(['id'],axis=1)\n",
        "test.head()"
      ]
    },
    {
      "cell_type": "code",
      "execution_count": null,
      "id": "3a5bc8b1-96f7-4d40-8036-b84829d9d052",
      "metadata": {
        "id": "3a5bc8b1-96f7-4d40-8036-b84829d9d052"
      },
      "outputs": [],
      "source": [
        "# 전처리가 완료된 테스트 데이터셋을 통해 본격적으로 학습한 모델로 추론을 시작합니다.\n",
        "prediction = model.predict(test)\n",
        "prediction"
      ]
    },
    {
      "cell_type": "markdown",
      "id": "5ea40b36-8a96-4952-ac41-1a62bc89f60c",
      "metadata": {
        "id": "5ea40b36-8a96-4952-ac41-1a62bc89f60c"
      },
      "source": [
        "## Dacon 대회에 제출하기 (Submission)\n",
        "\n",
        "이제 학습한 모델을 사용하여 이 예측 결과를 submission.csv 파일로 만들어서 대회 페이지에 제출해보도록 합시다.\n",
        "\n",
        "제출한 뒤 리더보드를 통해 결과를 확인합시다."
      ]
    },
    {
      "cell_type": "code",
      "execution_count": null,
      "id": "f9c7274a-2f73-4358-a1cc-f6695420242e",
      "metadata": {
        "id": "f9c7274a-2f73-4358-a1cc-f6695420242e"
      },
      "outputs": [],
      "source": [
        "# 제출용 Sample 파일을 불러옵니다\n",
        "submission = pd.read_csv(dir+'sample_submission.csv')\n",
        "submission.head()"
      ]
    },
    {
      "cell_type": "code",
      "execution_count": null,
      "id": "19d1a4ff-7680-4d56-812d-5f81724913c1",
      "metadata": {
        "id": "19d1a4ff-7680-4d56-812d-5f81724913c1"
      },
      "outputs": [],
      "source": [
        "submission['target'] = prediction\n",
        "\n",
        "# 데이터가 잘 들어갔는지 확인합니다\n",
        "submission"
      ]
    },
    {
      "cell_type": "markdown",
      "id": "b39081ac-e464-44e0-8b1d-13987f44ddd8",
      "metadata": {
        "id": "b39081ac-e464-44e0-8b1d-13987f44ddd8"
      },
      "source": [
        "submission을 csv 파일로 저장합니다.   \n",
        "index=False란 추가적인 id를 부여할 필요가 없다는 뜻입니다.    \n",
        "정확한 채점을 위해 꼭 index=False를 넣어주세요."
      ]
    },
    {
      "cell_type": "code",
      "execution_count": null,
      "id": "1542e198-1b19-4458-a507-3dd92c10a160",
      "metadata": {
        "id": "1542e198-1b19-4458-a507-3dd92c10a160"
      },
      "outputs": [],
      "source": [
        "submission.to_csv(dir+'submit.csv', index=False)"
      ]
    },
    {
      "cell_type": "markdown",
      "id": "cc7c6a0a-15c7-4321-9d3e-c8d98e0ad217",
      "metadata": {
        "id": "cc7c6a0a-15c7-4321-9d3e-c8d98e0ad217",
        "tags": []
      },
      "source": [
        "이렇게 생성된 submission.csv 파일을 데이콘 대회 페이지에 업로드 & 제출하여 결과를 확인해보세요!\n",
        "\n",
        "문제를 해결하기 위한 여러분의 방법을 코드 공유 게시판에 공유해주세요\n",
        "\n",
        "좋아요와 댓글을 합산하여 가장 높은 점수를 얻으신 분께 데이콘 후드가 제공됩니다!"
      ]
    }
  ],
  "metadata": {
    "accelerator": "GPU",
    "colab": {
      "collapsed_sections": [],
      "name": "인구 데이터 기반 소득 예측 경진대회.ipynb",
      "provenance": [],
      "toc_visible": true,
      "include_colab_link": true
    },
    "kernelspec": {
      "display_name": "Python 3 (ipykernel)",
      "language": "python",
      "name": "python3"
    },
    "language_info": {
      "codemirror_mode": {
        "name": "ipython",
        "version": 3
      },
      "file_extension": ".py",
      "mimetype": "text/x-python",
      "name": "python",
      "nbconvert_exporter": "python",
      "pygments_lexer": "ipython3",
      "version": "3.8.13"
    }
  },
  "nbformat": 4,
  "nbformat_minor": 5
}